{
  "nbformat": 4,
  "nbformat_minor": 0,
  "metadata": {
    "colab": {
      "provenance": [],
      "authorship_tag": "ABX9TyNGtc8211oL3g2UK0SrCCCu",
      "include_colab_link": true
    },
    "kernelspec": {
      "name": "python3",
      "display_name": "Python 3"
    },
    "language_info": {
      "name": "python"
    }
  },
  "cells": [
    {
      "cell_type": "markdown",
      "metadata": {
        "id": "view-in-github",
        "colab_type": "text"
      },
      "source": [
        "<a href=\"https://colab.research.google.com/github/AzzahraFebia/Struktur-Data/blob/main/Latihan_Week_11.ipynb\" target=\"_parent\"><img src=\"https://colab.research.google.com/assets/colab-badge.svg\" alt=\"Open In Colab\"/></a>"
      ]
    },
    {
      "cell_type": "markdown",
      "source": [
        "CASE 1 : COIN CHANGE"
      ],
      "metadata": {
        "id": "wYbaR3IhWUIx"
      }
    },
    {
      "cell_type": "code",
      "execution_count": null,
      "metadata": {
        "colab": {
          "base_uri": "https://localhost:8080/"
        },
        "id": "S5QfVbZ-T67a",
        "outputId": "742e9490-033b-448f-c3cb-dbb1723773a1"
      },
      "outputs": [
        {
          "output_type": "stream",
          "name": "stdout",
          "text": [
            "koin yang digunakan: [25, 25, 5, 1, 1]\n"
          ]
        }
      ],
      "source": [
        "def coin_change_greedy(amount, coins):\n",
        "  coins.sort(reverse=True)\n",
        "  result = []\n",
        "  for coin in coins:\n",
        "    while amount >= coin:\n",
        "      amount -= coin\n",
        "      result.append(coin)\n",
        "  return result\n",
        "\n",
        "# Contoh penggunaan\n",
        "amount = 57\n",
        "coins = [25, 10, 5 ,1]\n",
        "change = coin_change_greedy(amount, coins)\n",
        "print(\"koin yang digunakan:\", change)"
      ]
    },
    {
      "cell_type": "markdown",
      "source": [
        "FRACTIONAL KNAPSACK"
      ],
      "metadata": {
        "id": "hLYEy8OsXIIw"
      }
    },
    {
      "cell_type": "code",
      "source": [
        "def fractional_knapsack(items, capacity):\n",
        " # items = list of tuples (values, weight)\n",
        " items = sorted(items, key=lambda x: x[0]/x[1], reverse=True)\n",
        " total_value = 0.0\n",
        " for value, weight in items:\n",
        "  if capacity >= weight:\n",
        "    capacity -= weight\n",
        "    total_value += value\n",
        "  else:\n",
        "    total_value += value * capacity / weight\n",
        "    break\n",
        " return total_value\n",
        "\n",
        "# Contoh penggunaan\n",
        "items = [(60, 10), (100, 20), (120, 30)] # (nilai, berat)\n",
        "capacity = 50\n",
        "max_value = fractional_knapsack(items, capacity)\n",
        "print(\"Nilai maksimum yang dapat dibawa:\", max_value)"
      ],
      "metadata": {
        "id": "c3ILL6a1XC1T",
        "colab": {
          "base_uri": "https://localhost:8080/"
        },
        "outputId": "65cb28eb-3abc-4e44-b982-f91272e5c8dd"
      },
      "execution_count": null,
      "outputs": [
        {
          "output_type": "stream",
          "name": "stdout",
          "text": [
            "Nilai maksimum yang dapat dibawa: 240.0\n"
          ]
        }
      ]
    },
    {
      "cell_type": "markdown",
      "source": [
        "MINIMUM SPANNING TREE : PRIM DAN KRUSKAL"
      ],
      "metadata": {
        "id": "oWAh19XigqOh"
      }
    },
    {
      "cell_type": "markdown",
      "source": [
        "Kode program 1"
      ],
      "metadata": {
        "id": "OHsCXzwrXwdC"
      }
    },
    {
      "cell_type": "code",
      "source": [
        "import heapq\n",
        "\n",
        "def prim_mst(graph, start):\n",
        "  visited = set()\n",
        "  min_heap = [(0, start)]\n",
        "  total_weight = 0\n",
        "\n",
        "  while min_heap:\n",
        "    weight, node = heapq.heappop(min_heap)\n",
        "    if node in visited:\n",
        "      continue\n",
        "    visited.add(node)\n",
        "    total_weight += weight\n",
        "    for neighbor, edge_weight in graph[node]:\n",
        "      if neighbor not in visited:\n",
        "        heapq.heappush(min_heap, (edge_weight, neighbor))\n",
        "\n",
        "# Representasi graf: adjacency list\n",
        "graph = {\n",
        "    'A': [('B', 2), ('C', 3)],\n",
        "    'B': [('A', 2), ('C', 1), ('D', 1)],\n",
        "    'C': [('A', 3), ('B', 1), ('D', 4)],\n",
        "    'D': [('B', 1), ('C', 4)]\n",
        "}\n",
        "print(\"Total bobot MST (prim):\", prim_mst(graph, 'A'))"
      ],
      "metadata": {
        "id": "YDfSF2VYfqmT",
        "colab": {
          "base_uri": "https://localhost:8080/"
        },
        "outputId": "beda45e5-bf4c-45c4-e7ce-46341cd7b29b"
      },
      "execution_count": 4,
      "outputs": [
        {
          "output_type": "stream",
          "name": "stdout",
          "text": [
            "Total bobot MST (prim): None\n"
          ]
        }
      ]
    },
    {
      "cell_type": "markdown",
      "source": [
        "Kode program 2"
      ],
      "metadata": {
        "id": "2rKZpsM9Yy2Q"
      }
    },
    {
      "cell_type": "code",
      "source": [
        "def kruskal_mst(edges, n_nodes):\n",
        "  parent = {i: i for i in range(n_nodes)}\n",
        "\n",
        "  def find(x):\n",
        "    while parent[x] != x:\n",
        "      x = parent[x]\n",
        "    return x\n",
        "\n",
        "  def union(x, y):\n",
        "    root_x = find(x)\n",
        "    root_y = find(y)\n",
        "    if root_x != root_y:\n",
        "      parent[root_y] = root_x\n",
        "      return True\n",
        "    return False\n",
        "\n",
        "  edges.sort(key=lambda x: x[2])\n",
        "  total_weight = 0\n",
        "  for u, v, weight in edges:\n",
        "    if union(u, v):\n",
        "      total_weight += weight\n",
        "  return total_weight\n",
        "\n",
        "# edges: (node1, node2, weight), nodes are represented by integers\n",
        "edges = [(0, 1, 2), (0, 2, 3), (1, 2, 1), (1, 3, 1), (2, 3, 4)]\n",
        "print(\"Tota bobot MST(Kruskal):\", kruskal_mst(edges, 4))"
      ],
      "metadata": {
        "colab": {
          "base_uri": "https://localhost:8080/"
        },
        "id": "ruVnV1QxYxBV",
        "outputId": "9c0304ea-31fd-4051-f29c-7e0b6d879bba"
      },
      "execution_count": 7,
      "outputs": [
        {
          "output_type": "stream",
          "name": "stdout",
          "text": [
            "Tota bobot MST(Kruskal): 4\n"
          ]
        }
      ]
    }
  ]
}