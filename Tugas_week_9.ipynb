{
  "nbformat": 4,
  "nbformat_minor": 0,
  "metadata": {
    "colab": {
      "provenance": [],
      "authorship_tag": "ABX9TyNYBvJLXfHRzNHfGddhS3rh",
      "include_colab_link": true
    },
    "kernelspec": {
      "name": "python3",
      "display_name": "Python 3"
    },
    "language_info": {
      "name": "python"
    }
  },
  "cells": [
    {
      "cell_type": "markdown",
      "metadata": {
        "id": "view-in-github",
        "colab_type": "text"
      },
      "source": [
        "<a href=\"https://colab.research.google.com/github/AzzahraFebia/Struktur-Data/blob/main/Tugas_week_9.ipynb\" target=\"_parent\"><img src=\"https://colab.research.google.com/assets/colab-badge.svg\" alt=\"Open In Colab\"/></a>"
      ]
    },
    {
      "cell_type": "markdown",
      "source": [
        "**1. Eksperimen Sederhana Linear Probing**\n",
        "\n",
        "Modifikasi kode LinearProbingHashTable dengan menambahkan 5 data ke dalam tabel\n",
        "yang berukuran 5."
      ],
      "metadata": {
        "id": "DpIBzRlz3hMw"
      }
    },
    {
      "cell_type": "code",
      "execution_count": 1,
      "metadata": {
        "id": "vzkjOP-Fz4cz",
        "colab": {
          "base_uri": "https://localhost:8080/"
        },
        "outputId": "e51b414a-f530-4fe1-e1d3-89348154e80d"
      },
      "outputs": [
        {
          "output_type": "stream",
          "name": "stdout",
          "text": [
            "Array setelah semua data dimasukkan: \n",
            "[('A', 10), ('B', 20), ('C', 30), ('D', 40), ('E', 50)]\n"
          ]
        }
      ],
      "source": [
        "class LinearProbingHashTable:\n",
        "  def __init__(self, size):\n",
        "    self.size = size\n",
        "    self.table = [None] * size\n",
        "\n",
        "  def hash_function(self, key):\n",
        "    return hash(key) % self.size\n",
        "\n",
        "  def insert(self, key, value):\n",
        "    index = self.hash_function(key)\n",
        "    original_index = index\n",
        "\n",
        "    while self.table[index] is not None:\n",
        "      if self.table[index][0] == key:\n",
        "        break\n",
        "      index = (index + 1) % self.size\n",
        "      if index == original_index:\n",
        "        raise Exception(\"Hash table penuh\")\n",
        "\n",
        "    self.table[index] = (key, value)\n",
        "\n",
        "  def search(self, key):\n",
        "    index = self.hash_function(key)\n",
        "    original_index = index\n",
        "\n",
        "    while self.table[index] is not None:\n",
        "      if self.table[index][0] == key:\n",
        "        return self.table[index][1]\n",
        "      index = (index + 1) % self.size\n",
        "      if index == original_index:\n",
        "        break\n",
        "\n",
        "    return None\n",
        "\n",
        "# Buat objek LinearProbingHashTable dengan ukuran tabel 5.\n",
        "ht = LinearProbingHashTable(5)\n",
        "\n",
        "# Masukkan pasangan key-value.\n",
        "ht.insert(\"A\", 10)\n",
        "ht.insert(\"B\", 20)\n",
        "ht.insert(\"C\", 30)\n",
        "ht.insert(\"D\", 40)\n",
        "ht.insert(\"E\", 50)\n",
        "\n",
        "#Cetak array self.table .\n",
        "print(\"Array setelah semua data dimasukkan: \")\n",
        "print(ht.table)"
      ]
    },
    {
      "cell_type": "markdown",
      "source": [
        "**2. Percobaan Dasar Chaining**\n",
        "\n",
        "Gunakan ChainingHashTable untuk menyisipkan beberapa data yang menghasilkan\n",
        "collision.\n"
      ],
      "metadata": {
        "id": "zUVe5YMM31i7"
      }
    },
    {
      "cell_type": "code",
      "source": [
        "class ChainingHashTable:\n",
        "  def __init__(self, size):\n",
        "    self.size = size\n",
        "    self.table = [[] for _ in range(size)]\n",
        "\n",
        "  def hash_function(self, key):\n",
        "    return hash(key) % self.size\n",
        "\n",
        "  def insert(self, key, value):\n",
        "    index = self.hash_function(key)\n",
        "    for i, (k, v) in enumerate(self.table[index]):\n",
        "      if k == key:\n",
        "        self.table[index][i] = (key, value)\n",
        "        return\n",
        "    self.table[index].append((key, value))\n",
        "\n",
        "  def search(self, key):\n",
        "    index = self.hash_function(key)\n",
        "    for k, v in self.table[index]:\n",
        "      if k == key:\n",
        "        return v\n",
        "    return None\n",
        "\n",
        "# Membuat tabel dengan ukuran 3\n",
        "ht = ChainingHashTable(3)\n",
        "\n",
        "# Menambahkan data ke tabel\n",
        "ht.insert(\"Apple\", 100)\n",
        "ht.insert(\"Melon\", 200)\n",
        "ht.insert(\"Lemon\", 300)\n",
        "ht.insert(\"Pisang\", 400)\n",
        "\n",
        "#  Cetak isi tabel dan tampilkan semua data yang disimpan di setiap slot.\n",
        "print(\"Isi tabel setela semua data dimasukkan: \")\n",
        "for i, bucket in enumerate(ht.table):\n",
        "  print(f\"slot{i} : {bucket}\")"
      ],
      "metadata": {
        "colab": {
          "base_uri": "https://localhost:8080/"
        },
        "id": "NkTn84jq35yI",
        "outputId": "1d4f8f14-6f9e-4165-f895-7e2a60c97f73"
      },
      "execution_count": null,
      "outputs": [
        {
          "output_type": "stream",
          "name": "stdout",
          "text": [
            "Isi tabel setela semua data dimasukkan: \n",
            "slot0 : [('Melon', 200)]\n",
            "slot1 : [('Apple', 100)]\n",
            "slot2 : [('Lemon', 300), ('Pisang', 400)]\n"
          ]
        }
      ]
    },
    {
      "cell_type": "code",
      "source": [],
      "metadata": {
        "id": "OU_dRqm1DJkE"
      },
      "execution_count": null,
      "outputs": []
    }
  ]
}