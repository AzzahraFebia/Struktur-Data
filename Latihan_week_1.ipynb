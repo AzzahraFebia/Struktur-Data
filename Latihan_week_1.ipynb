{
  "nbformat": 4,
  "nbformat_minor": 0,
  "metadata": {
    "colab": {
      "provenance": [],
      "authorship_tag": "ABX9TyM+mO/B6tdviFYttBuiURBQ",
      "include_colab_link": true
    },
    "kernelspec": {
      "name": "python3",
      "display_name": "Python 3"
    },
    "language_info": {
      "name": "python"
    }
  },
  "cells": [
    {
      "cell_type": "markdown",
      "metadata": {
        "id": "view-in-github",
        "colab_type": "text"
      },
      "source": [
        "<a href=\"https://colab.research.google.com/github/AzzahraFebia/Struktur-Data/blob/main/Latihan_week_1.ipynb\" target=\"_parent\"><img src=\"https://colab.research.google.com/assets/colab-badge.svg\" alt=\"Open In Colab\"/></a>"
      ]
    },
    {
      "cell_type": "markdown",
      "source": [
        "List python"
      ],
      "metadata": {
        "id": "akdtS7Tp85Qf"
      }
    },
    {
      "cell_type": "code",
      "execution_count": null,
      "metadata": {
        "colab": {
          "base_uri": "https://localhost:8080/"
        },
        "id": "wxe_-LSasO-E",
        "outputId": "5a252418-b8c8-4f62-9057-d424facd3c4c"
      },
      "outputs": [
        {
          "output_type": "stream",
          "name": "stdout",
          "text": [
            "Array dengan list: [10, 20, 30, 40, 50]\n"
          ]
        }
      ],
      "source": [
        "# Deklarasi array menggunakan list\n",
        "angka = [10, 20, 30, 40, 50]\n",
        "print(\"Array dengan list:\", angka)"
      ]
    },
    {
      "cell_type": "markdown",
      "source": [
        "Modul array"
      ],
      "metadata": {
        "id": "AIROH5IO9G5X"
      }
    },
    {
      "cell_type": "code",
      "source": [
        "import array\n",
        "angka = array.array('i', [10, 20, 30, 40, 50])\n",
        "print(\"Array dengan modul array:\", angka)"
      ],
      "metadata": {
        "colab": {
          "base_uri": "https://localhost:8080/"
        },
        "id": "Z7JvEB7OuPbl",
        "outputId": "ae281e33-0bc9-4759-f721-30768dfb230e"
      },
      "execution_count": null,
      "outputs": [
        {
          "output_type": "stream",
          "name": "stdout",
          "text": [
            "Array dengan modul array: array('i', [10, 20, 30, 40, 50])\n"
          ]
        }
      ]
    },
    {
      "cell_type": "markdown",
      "source": [
        "Modul numpy"
      ],
      "metadata": {
        "id": "8AFt_CF19I7P"
      }
    },
    {
      "cell_type": "code",
      "source": [
        "import numpy as np\n",
        "angka = np.array([10, 20, 30, 40, 50])\n",
        "print(\"Array dengan numpy:\", angka)"
      ],
      "metadata": {
        "colab": {
          "base_uri": "https://localhost:8080/"
        },
        "id": "DA8DkaFbujM-",
        "outputId": "abe581f0-720b-457a-b3f3-87284388d919"
      },
      "execution_count": null,
      "outputs": [
        {
          "output_type": "stream",
          "name": "stdout",
          "text": [
            "Array dengan numpy: [10 20 30 40 50]\n"
          ]
        }
      ]
    },
    {
      "cell_type": "markdown",
      "source": [
        "Array 1 dimensi, 2 dimensi, dan multidimensi"
      ],
      "metadata": {
        "id": "4KwTubZ99Lpg"
      }
    },
    {
      "cell_type": "code",
      "source": [
        "import numpy as np\n",
        "angka = np.array([1, 2, 3, 4, 5])\n",
        "print(\"Array satu dimensi:\",angka)\n",
        "\n",
        "matriks = np.array([[1, 2],[3, 4],[4, 5]])\n",
        "print(\"Array dua dimensi:\",matriks)\n",
        "\n",
        "array3D = np.array([[[[1, 2],[3, 4]],[[5, 6],[7, 8]]]])\n",
        "print(\"Array multidimensi:\",array3D)"
      ],
      "metadata": {
        "colab": {
          "base_uri": "https://localhost:8080/"
        },
        "id": "Y3xiJ7tBu76U",
        "outputId": "2c41d4d6-97b7-4eef-d21f-7654dc235707"
      },
      "execution_count": null,
      "outputs": [
        {
          "output_type": "stream",
          "name": "stdout",
          "text": [
            "Array satu dimensi: [1 2 3 4 5]\n",
            "Array dua dimensi: [[1 2]\n",
            " [3 4]\n",
            " [4 5]]\n",
            "Array multidimensi: [[[[1 2]\n",
            "   [3 4]]\n",
            "\n",
            "  [[5 6]\n",
            "   [7 8]]]]\n"
          ]
        }
      ]
    },
    {
      "cell_type": "markdown",
      "source": [
        "Implementasi array dalam python"
      ],
      "metadata": {
        "id": "83n-RftQ-k8G"
      }
    },
    {
      "cell_type": "code",
      "source": [
        "# Deklarasi array kosong\n",
        "angka = []\n",
        "# Inisialisasi dengan elemen\n",
        "angka = [10, 20, 30, 40, 50]\n",
        "# Akses elemen\n",
        "print(\"Elemen pertama\", angka[0])\n",
        "print(\"Elemen kedua\", angka[-5])\n",
        "# Menambah elemen baru\n",
        "angka.append(60)\n",
        "angka.append(70)\n",
        "print(\"Setelah append:\", angka)\n",
        "# Menghapus elemen\n",
        "angka.remove(10)\n",
        "angka.remove(40)\n",
        "print(\"Setelah remove:\", angka)\n",
        "# Iterasi array\n",
        "for nilai in angka:\n",
        "  print(\"Nilai:\", nilai)"
      ],
      "metadata": {
        "colab": {
          "base_uri": "https://localhost:8080/"
        },
        "id": "ywm95DAEwWsS",
        "outputId": "e1c5c095-0cdc-4de4-85f6-72f17d8e9862"
      },
      "execution_count": null,
      "outputs": [
        {
          "output_type": "stream",
          "name": "stdout",
          "text": [
            "Elemen pertama 10\n",
            "Elemen kedua 10\n",
            "Setelah append: [10, 20, 30, 40, 50, 60, 70]\n",
            "Setelah remove: [20, 30, 50, 60, 70]\n",
            "Nilai: 20\n",
            "Nilai: 30\n",
            "Nilai: 50\n",
            "Nilai: 60\n",
            "Nilai: 70\n"
          ]
        }
      ]
    },
    {
      "cell_type": "markdown",
      "source": [
        "Operasi dasar pada array"
      ],
      "metadata": {
        "id": "zuSTICoo_3_x"
      }
    },
    {
      "cell_type": "code",
      "source": [
        "# Deklarasi array kosong\n",
        "angka = []\n",
        "# Inisialisasi dengan elemen\n",
        "angka = [10, 20, 30, 40, 50]\n",
        "# Akses elemen\n",
        "print(\"Elemen pertama:\", angka [0])\n",
        "# Penambahan elemen\n",
        "angka = np.append(angka,1)\n",
        "print(\"Setelah penambahan;\", angka)\n",
        "# Menghapus elemen\n",
        "angka = np.delete(angka,2)\n",
        "print(\"Setelah penghapusan:\", angka)\n",
        "# Mengubah elemen\n",
        "angka[1] = 25\n",
        "print(\"Setelah perubahan:\", angka)\n",
        "print('Jumlah elemen:', len(angka))\n"
      ],
      "metadata": {
        "colab": {
          "base_uri": "https://localhost:8080/"
        },
        "id": "nFQ2-bkJ-0u7",
        "outputId": "adff5fb5-0514-473a-e555-4a15af5f30c8"
      },
      "execution_count": null,
      "outputs": [
        {
          "output_type": "stream",
          "name": "stdout",
          "text": [
            "Elemen pertama: 10\n",
            "Setelah penambahan; [10 20 30 40 50  1]\n",
            "Setelah penghapusan: [10 20 40 50  1]\n",
            "Setelah perubahan: [10 25 40 50  1]\n",
            "Jumlah elemen: 5\n"
          ]
        }
      ]
    },
    {
      "cell_type": "markdown",
      "source": [
        "LATIHAN"
      ],
      "metadata": {
        "id": "TsjrWdzB_w9h"
      }
    },
    {
      "cell_type": "markdown",
      "source": [
        "LATIHAN 1 : Buatlah array yang berisi NPM anda di ikuti dengan 4 NPM sebelum atau setelah anda kemudian tampilkan isi array tersebut!"
      ],
      "metadata": {
        "id": "HZYmu3cV-S65"
      }
    },
    {
      "cell_type": "code",
      "source": [
        "# Deklarasi array kosong\n",
        "angka = []\n",
        "\n",
        "# Inisialisasi dengan elemen\n",
        "angka = [2420506023, 2420506024, 2420506025, 2420506026, 2420506027]\n",
        "\n",
        "# Menampilkan isi array\n",
        "print(\"NPM :\", angka)"
      ],
      "metadata": {
        "colab": {
          "base_uri": "https://localhost:8080/"
        },
        "id": "VSp3wqoTz_0M",
        "outputId": "130b939b-6921-4464-a93f-5ccd10afac2b"
      },
      "execution_count": 7,
      "outputs": [
        {
          "output_type": "stream",
          "name": "stdout",
          "text": [
            "NPM : [2420506023, 2420506024, 2420506025, 2420506026, 2420506027]\n"
          ]
        }
      ]
    },
    {
      "cell_type": "markdown",
      "source": [
        "LATIHAN 2 : Tambahkan nilai NPM anda (2 digit terakhir) ke dalam array angka dan hapus elemen pertama!"
      ],
      "metadata": {
        "id": "XuhZAxFV-wNX"
      }
    },
    {
      "cell_type": "code",
      "source": [
        "# Deklarasi array kosong\n",
        "angka = []\n",
        "\n",
        "# Inisialisasi dengan elemen\n",
        "angka = [24, 20, 50, 60, 23]\n",
        "\n",
        "# Menampilkan isi array\n",
        "print(\"Isi array angka:\",angka)\n",
        "\n",
        "# Menambahkan angka\n",
        "angka.append(23)\n",
        "print(\"Setelah ditambah angka:\", angka)\n",
        "\n",
        "# Menghapus elemen pertama\n",
        "angka.pop(0)\n",
        "print(\"Setelah menghapus elemen pertama:\", angka)"
      ],
      "metadata": {
        "colab": {
          "base_uri": "https://localhost:8080/"
        },
        "id": "Y-5vEt7C4dVw",
        "outputId": "6eafd80f-ab38-4732-a9f2-94eb2c8a78d7"
      },
      "execution_count": 10,
      "outputs": [
        {
          "output_type": "stream",
          "name": "stdout",
          "text": [
            "Isi array angka: [24, 20, 50, 60, 23]\n",
            "Setelah ditambah angka: [24, 20, 50, 60, 23, 23]\n",
            "Setelah menghapus elemen pertama: [20, 50, 60, 23, 23]\n"
          ]
        }
      ]
    },
    {
      "cell_type": "markdown",
      "source": [
        "LATIHAN 3 : Buat program untuk menampilkan semua nama Fakultas di Untidar dengan array dan perulangan."
      ],
      "metadata": {
        "id": "H14O3Z14_ETT"
      }
    },
    {
      "cell_type": "code",
      "source": [
        "# Deklarasi array kosong\n",
        "Nama_Fakultas = []\n",
        "\n",
        "# Inisialisasi dengan elemen\n",
        "Nama_Fakultas = ['Teknik', 'FKIP', 'Ekonomi', 'FISIPOL', 'FAPERTA']\n",
        "\n",
        "# Menampilkan isi array\n",
        "for nilai in Nama_Fakultas:\n",
        "  print(\"Fakultas:\", nilai)"
      ],
      "metadata": {
        "id": "vh4V2ObEDfJk",
        "colab": {
          "base_uri": "https://localhost:8080/"
        },
        "outputId": "af043c56-2f18-4139-8fe3-43e5592d594a"
      },
      "execution_count": null,
      "outputs": [
        {
          "output_type": "stream",
          "name": "stdout",
          "text": [
            "Fakultas: Teknik\n",
            "Fakultas: FKIP\n",
            "Fakultas: Ekonomi\n",
            "Fakultas: FISIPOL\n",
            "Fakultas: FAPERTA\n"
          ]
        }
      ]
    },
    {
      "cell_type": "markdown",
      "source": [
        "LATIHAN 4 : Buatlah array yang berisi harga barang dan hitung jumlah elemen dari array tersebut!"
      ],
      "metadata": {
        "id": "4Yad8_kD_wwZ"
      }
    },
    {
      "cell_type": "code",
      "source": [
        "# Deklarasi array kosong\n",
        "Harga_Barang = []\n",
        "\n",
        "# Inisialisasi dengan elemen\n",
        "Harga_Barang = [24000, 3000, 48000]\n",
        "\n",
        "# Menampilkan isi array\n",
        "print(\"Jumlah Total:\", sum(Harga_Barang))"
      ],
      "metadata": {
        "colab": {
          "base_uri": "https://localhost:8080/"
        },
        "id": "V1rIoJwc98c3",
        "outputId": "7a3caa7e-7945-42d6-a14d-243c6cd601e7"
      },
      "execution_count": null,
      "outputs": [
        {
          "output_type": "stream",
          "name": "stdout",
          "text": [
            "Jumlah Total: 75000\n"
          ]
        }
      ]
    },
    {
      "cell_type": "markdown",
      "source": [
        "LATIHAN 5 : Buatlah array 2D yang berisi 3 baris dan 4 kolom, lalu tampilkan isi array tersebut menggunakan perulangan!"
      ],
      "metadata": {
        "id": "VGnwuR2SAEtz"
      }
    },
    {
      "cell_type": "code",
      "source": [
        "# Deklarasi array 2D\n",
        "matriks = [\n",
        "    [1, 2, 3, 4],\n",
        "    [5, 6, 7, 8],\n",
        "    [4, 3, 2, 1]\n",
        "]\n",
        "# Menampilkan isi array 2D\n",
        "print(\"Isi array 2D:\")\n",
        "for baris in matriks:\n",
        "    print(baris)"
      ],
      "metadata": {
        "colab": {
          "base_uri": "https://localhost:8080/"
        },
        "id": "b_Uo-Na6BSMX",
        "outputId": "518b96dd-04da-420b-9067-1de225c770eb"
      },
      "execution_count": null,
      "outputs": [
        {
          "output_type": "stream",
          "name": "stdout",
          "text": [
            "Isi array 2D:\n",
            "[1, 2, 3, 4]\n",
            "[5, 6, 7, 8]\n",
            "[4, 3, 2, 1]\n"
          ]
        }
      ]
    },
    {
      "cell_type": "markdown",
      "source": [
        "LATIHAN 6 : Akses elemen pada baris 2 kolom 4 dari array 2 dimensi yang tekat anda buat pada latihan 5!"
      ],
      "metadata": {
        "id": "fw7f7ixaCCCk"
      }
    },
    {
      "cell_type": "code",
      "source": [
        "# Deklarasi array 2D\n",
        "matriks = [\n",
        "    [1, 2, 3, 4],\n",
        "    [5, 6, 7, 8],\n",
        "    [4, 3, 2, 1]\n",
        "]\n",
        "# Mengakses elemen pada baris ke-2 kolom ke-4 (indeks [1][-1])\n",
        "print(\"Elemen pada baris ke-2, kolom ke-4 =\", matriks[1][-1])"
      ],
      "metadata": {
        "colab": {
          "base_uri": "https://localhost:8080/"
        },
        "id": "ncGhOK3SCiyM",
        "outputId": "cfdbfcc2-ba3c-4836-9c61-e2b25a3422dc"
      },
      "execution_count": 9,
      "outputs": [
        {
          "output_type": "stream",
          "name": "stdout",
          "text": [
            "Elemen pada baris ke-2, kolom ke-4 = 8\n"
          ]
        }
      ]
    },
    {
      "cell_type": "markdown",
      "source": [
        "LATIHAN 7 : Tambahkan baris baru yang berisi tanggal lahir, bulan lahir, 2 digit awal tahun lahir, dan digit terakhir tahun lahir anda, dan tampilkan dalam bentuk baris dan kolom!"
      ],
      "metadata": {
        "id": "D_iqt2IDCV9Q"
      }
    },
    {
      "cell_type": "code",
      "source": [
        "# Deklarasi array 2D\n",
        "matriks = [\n",
        "    [1, 2, 3, 4],\n",
        "    [5, 6, 7, 8],\n",
        "    [4, 3, 2, 1]\n",
        "]\n",
        "# Menambahkan baris baru\n",
        "matriks.append([7, 2, 20, 6])\n",
        "print(\"Array setelah ditambahkan baris baru:\")\n",
        "for baris in matriks:\n",
        "    print(baris)"
      ],
      "metadata": {
        "colab": {
          "base_uri": "https://localhost:8080/"
        },
        "id": "po9seckDD8sF",
        "outputId": "b2fb8c44-8bb5-4ae1-e0d3-3642eb47382a"
      },
      "execution_count": null,
      "outputs": [
        {
          "output_type": "stream",
          "name": "stdout",
          "text": [
            "Array setelah ditambahkan baris baru:\n",
            "[1, 2, 3, 4]\n",
            "[5, 6, 7, 8]\n",
            "[4, 3, 2, 1]\n",
            "[7, 2, 20, 6]\n"
          ]
        }
      ]
    },
    {
      "cell_type": "markdown",
      "source": [
        "LATIHAN 8 : Modifikasilah array pada latihan sebelumnya untuk menghapus elemen ke-3 dari baris terakhir!"
      ],
      "metadata": {
        "id": "BV1Ob44-CtfZ"
      }
    },
    {
      "cell_type": "code",
      "source": [
        "# Deklarasi array 2D\n",
        "matriks = [\n",
        "    [1, 2, 3, 4],\n",
        "    [5, 6, 7, 8],\n",
        "    [4, 3, 2, 1],\n",
        "    [7, 2, 20, 6]\n",
        "]\n",
        "# Menghapus elemen ke-3 dari baris terakhir\n",
        "matriks[-1].pop(2) # Menunjukkan baris terakhir dan indeks ke-2\n",
        "print(\"Array setelah menghapus elemen ke-3 dari baris terakhir:\")\n",
        "for baris in matriks:\n",
        "    print(baris)"
      ],
      "metadata": {
        "colab": {
          "base_uri": "https://localhost:8080/"
        },
        "id": "YKFrGqzQFKDp",
        "outputId": "1958293c-258c-4352-8bd9-08fd3fdb7896"
      },
      "execution_count": 2,
      "outputs": [
        {
          "output_type": "stream",
          "name": "stdout",
          "text": [
            "Array setelah menghapus elemen ke-3 dari baris terakhir:\n",
            "[1, 2, 3, 4]\n",
            "[5, 6, 7, 8]\n",
            "[4, 3, 2, 1]\n",
            "[7, 2, 6]\n"
          ]
        }
      ]
    },
    {
      "cell_type": "markdown",
      "source": [
        "LATIHAN 9 : Ubah elemen pada baris terakhir kolom terakhir dengan tanggal hari ini!"
      ],
      "metadata": {
        "id": "9xkdqmcPDC1z"
      }
    },
    {
      "cell_type": "code",
      "source": [
        "# Deklarasi array 2D\n",
        "matriks = [\n",
        "    [1, 2, 3, 4],\n",
        "    [5, 6, 7, 8],\n",
        "    [4, 3, 2, 1],\n",
        "    [7, 2, 20, 6]\n",
        "]\n",
        "# Mengubah elemen pada baris dan kolom terakhir\n",
        "matriks[-1][-1] = 14\n",
        "print(\"Array setelah mengubah elemen pada baris dan kolom terakhir:\")\n",
        "for baris in matriks:\n",
        "  print(baris)"
      ],
      "metadata": {
        "colab": {
          "base_uri": "https://localhost:8080/"
        },
        "id": "BZm-rrdGHXGH",
        "outputId": "4af9a84e-e147-4c17-94a2-a240017c165d"
      },
      "execution_count": 4,
      "outputs": [
        {
          "output_type": "stream",
          "name": "stdout",
          "text": [
            "Array setelah mengubah elemen pada baris dan kolom terakhir:\n",
            "[1, 2, 3, 4]\n",
            "[5, 6, 7, 8]\n",
            "[4, 3, 2, 1]\n",
            "[7, 2, 20, 14]\n"
          ]
        }
      ]
    },
    {
      "cell_type": "markdown",
      "source": [
        "LATIHAN 10 : Buat daftar belanja anda sendiri dan modifikasi isinya."
      ],
      "metadata": {
        "id": "_ezPjGlrDP-9"
      }
    },
    {
      "cell_type": "code",
      "source": [
        "# Deklarasi array kosong\n",
        "Daftar_Belanja = []\n",
        "\n",
        "# Inisialisasi dengan elemen\n",
        "Daftar_Belanja = ['Tiket konser', 'Lightstick', 'Photocard']\n",
        "print(\"---- Daftar Belanja ----\")\n",
        "i = 1 # Menjelaskan bahwa angka untuk item mulai dari 1\n",
        "for item in Daftar_Belanja:\n",
        "  print(f\"{i}.{item}\")\n",
        "  i += 1 # Menjelaskan angka akan bertambah 1 seiring jumlah item bertambah\n",
        "print()\n",
        "\n",
        "# Tambahkan elemen baru\n",
        "Daftar_Belanja.append('Camera')\n",
        "print(\"Setelah menambah item baru:\")\n",
        "i = 1\n",
        "for item in Daftar_Belanja:\n",
        "  print(f\"{i}.{item}\")\n",
        "  i += 1\n",
        "print()\n",
        "\n",
        "# Hapus elemen ke-3\n",
        "Daftar_Belanja.pop(-2)\n",
        "print(\"Setelah menghapus item ke-3:\")\n",
        "i = 1\n",
        "for item in Daftar_Belanja:\n",
        "  print(f\"{i}.{item}\")\n",
        "  i += 1\n",
        "print()\n",
        "\n",
        "# Mengganti item ke-3 dengan elemen baru\n",
        "Daftar_Belanja[2] = 'Baju'\n",
        "print('Setelah mengubah item ke-3:')\n",
        "i = 1\n",
        "for item in Daftar_Belanja:\n",
        "  print(f\"{i}.{item}\")\n",
        "  i += 1"
      ],
      "metadata": {
        "colab": {
          "base_uri": "https://localhost:8080/"
        },
        "id": "Edil6ZY1JOYz",
        "outputId": "bc13ee4e-7a85-40bd-aa19-2704f7848df8"
      },
      "execution_count": 5,
      "outputs": [
        {
          "output_type": "stream",
          "name": "stdout",
          "text": [
            "---- Daftar Belanja ----\n",
            "1.Tiket konser\n",
            "2.Lightstick\n",
            "3.Photocard\n",
            "\n",
            "Setelah menambah item baru:\n",
            "1.Tiket konser\n",
            "2.Lightstick\n",
            "3.Photocard\n",
            "4.Camera\n",
            "\n",
            "Setelah menghapus item ke-3:\n",
            "1.Tiket konser\n",
            "2.Lightstick\n",
            "3.Camera\n",
            "\n",
            "Setelah mengubah item ke-3:\n",
            "1.Tiket konser\n",
            "2.Lightstick\n",
            "3.Baju\n"
          ]
        }
      ]
    }
  ]
}