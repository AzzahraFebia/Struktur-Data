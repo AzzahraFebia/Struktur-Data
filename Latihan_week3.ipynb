{
  "cells": [
    {
      "cell_type": "markdown",
      "metadata": {
        "id": "view-in-github",
        "colab_type": "text"
      },
      "source": [
        "<a href=\"https://colab.research.google.com/github/AzzahraFebia/Struktur-Data/blob/main/Latihan_week3.ipynb\" target=\"_parent\"><img src=\"https://colab.research.google.com/assets/colab-badge.svg\" alt=\"Open In Colab\"/></a>"
      ]
    },
    {
      "cell_type": "markdown",
      "metadata": {
        "id": "xQufwC9fyIr-"
      },
      "source": [
        "PUSH (Menambah Elemen ke Stack)"
      ]
    },
    {
      "cell_type": "code",
      "execution_count": null,
      "metadata": {
        "colab": {
          "base_uri": "https://localhost:8080/"
        },
        "id": "paUGddTwvAp8",
        "outputId": "88188d3e-500e-478d-b2ea-78fe910ba951"
      },
      "outputs": [
        {
          "name": "stdout",
          "output_type": "stream",
          "text": [
            "[10]\n"
          ]
        }
      ],
      "source": [
        "class stack:\n",
        "  def __init__(self):\n",
        "    self.stack = []\n",
        "  def push(self, item):\n",
        "    self.stack.append(item)\n",
        "\n",
        "# contoh\n",
        "s = stack()\n",
        "s.push(10)\n",
        "print(s.stack)"
      ]
    },
    {
      "cell_type": "markdown",
      "metadata": {
        "id": "odnO6jo8yw7N"
      },
      "source": [
        "POP (Menghapus Elemen dari Stack)"
      ]
    },
    {
      "cell_type": "code",
      "execution_count": null,
      "metadata": {
        "colab": {
          "base_uri": "https://localhost:8080/"
        },
        "id": "8AYY3nitytan",
        "outputId": "eca08c97-28ec-4a96-9c8d-f960837a2041"
      },
      "outputs": [
        {
          "name": "stdout",
          "output_type": "stream",
          "text": [
            "20\n",
            "[15]\n"
          ]
        }
      ],
      "source": [
        "class stack:\n",
        "  def __init__(self):\n",
        "    self.stack = []\n",
        "  def push(self, item):\n",
        "    self.stack.append(item)\n",
        "  def pop(self):\n",
        "    if len(self.stack) == 0:\n",
        "      return \"Stack Kosong\"\n",
        "    return self.stack.pop()\n",
        "\n",
        "# contoh\n",
        "s = stack()\n",
        "s.push(15)\n",
        "s.push(20)\n",
        "print(s.pop())\n",
        "print(s.stack)\n"
      ]
    },
    {
      "cell_type": "markdown",
      "metadata": {
        "id": "FevNRXvC0A6t"
      },
      "source": [
        "PEEK (Melihat Elemen Teratas Tanpa Menghapusnya)"
      ]
    },
    {
      "cell_type": "code",
      "execution_count": null,
      "metadata": {
        "colab": {
          "base_uri": "https://localhost:8080/"
        },
        "id": "Ak1QCA7-zkH3",
        "outputId": "6f50680d-8c31-437c-b7ac-9ec07634c665"
      },
      "outputs": [
        {
          "name": "stdout",
          "output_type": "stream",
          "text": [
            "33\n",
            "[12, 33]\n"
          ]
        }
      ],
      "source": [
        "class stack:\n",
        "  def __init__(self):\n",
        "    self.stack = []\n",
        "  def push(self, item):\n",
        "    self.stack.append(item)\n",
        "  def peek(self):\n",
        "    if len(self.stack) == 0:\n",
        "      return \"Stack Kosong\"\n",
        "    return self.stack[-1]\n",
        "\n",
        "# contoh\n",
        "s = stack()\n",
        "s.push(12)\n",
        "s.push(33)\n",
        "print(s.peek())\n",
        "print(s.stack)"
      ]
    },
    {
      "cell_type": "markdown",
      "metadata": {
        "id": "A4SMdURa1zZu"
      },
      "source": [
        "IsEmpty (Mengecek Apakah Stack Koosng)"
      ]
    },
    {
      "cell_type": "code",
      "execution_count": null,
      "metadata": {
        "colab": {
          "base_uri": "https://localhost:8080/"
        },
        "id": "zqnl502w1953",
        "outputId": "a9aae03d-54c6-40b9-ae0e-f11efd81f466"
      },
      "outputs": [
        {
          "name": "stdout",
          "output_type": "stream",
          "text": [
            "True\n",
            "False\n"
          ]
        }
      ],
      "source": [
        "class stack:\n",
        "  def __init__(self):\n",
        "    self.stack = []\n",
        "  def push(self, item):\n",
        "    self.stack.append(item)\n",
        "  def is_empty(self):\n",
        "    return len(self.stack) == 0\n",
        "\n",
        "# contoh\n",
        "s = stack()\n",
        "print(s.is_empty())\n",
        "s.push(5)\n",
        "print(s.is_empty())"
      ]
    },
    {
      "cell_type": "markdown",
      "metadata": {
        "id": "PyfviSbt31K-"
      },
      "source": [
        "LATIHAN"
      ]
    },
    {
      "cell_type": "markdown",
      "metadata": {
        "id": "LRS79JEdl4PR"
      },
      "source": [
        "Latihan 1\n",
        "\n",
        "- Contoh kode program"
      ]
    },
    {
      "cell_type": "code",
      "execution_count": null,
      "metadata": {
        "colab": {
          "base_uri": "https://localhost:8080/"
        },
        "id": "0EICwmGO36Mm",
        "outputId": "51836f6d-340b-48dd-8a9d-6491069b1cfc"
      },
      "outputs": [
        {
          "name": "stdout",
          "output_type": "stream",
          "text": [
            "Undo: Menghapus 'Ini teks ketiga.'\n",
            "Undo: Menghapus 'Ini teks kedua.'\n"
          ]
        }
      ],
      "source": [
        "class TextEditor:\n",
        "  def __init__(self):\n",
        "    self.history = []\n",
        "  def write(self, text):\n",
        "    self.history.append(text)\n",
        "  def undo(self):\n",
        "    if self.history:\n",
        "      return f\"Undo: Menghapus '{self.history.pop()}'\"\n",
        "\n",
        "# Contoh penggunaan\n",
        "editor = TextEditor ()\n",
        "editor.write(\"Halo, ini teks pertama.\")\n",
        "editor.write(\"Ini teks kedua.\")\n",
        "editor.write(\"Ini teks ketiga.\")\n",
        "\n",
        "print(editor.undo())\n",
        "print(editor.undo())"
      ]
    },
    {
      "cell_type": "markdown",
      "metadata": {
        "id": "3SFGxqCol6mS"
      },
      "source": [
        "- SOAL\n",
        "\n",
        "Buatlah program \"Undo Perintah Kalkulator\", dimana setiap operasi matematika yang dilakukan disimpan dalam Stack. Jika pengguna menekan Undo, operasi terakhir dibatalkan. Gunakan dua digit terakhir NPM sebagai angka awal. Lakukan minimal 3 operasi matematika sebelum menguji fitur Undo."
      ]
    },
    {
      "cell_type": "code",
      "execution_count": null,
      "metadata": {
        "colab": {
          "base_uri": "https://localhost:8080/"
        },
        "id": "As64PPLFl9tv",
        "outputId": "49b9e306-d28c-4450-95e2-f0a0cac3b434"
      },
      "outputs": [
        {
          "name": "stdout",
          "output_type": "stream",
          "text": [
            "----- KALKULATOR -----\n",
            "\n",
            "NPM sekarang : 23\n",
            "\n",
            "Pilih Operasi:\n",
            "1. Pertambahan\n",
            "2. Pengurangan\n",
            "3. Perkalian\n",
            "4. Undo\n",
            "5. Out\n",
            "Masukkan pilihan: 1\n",
            "Input angka: 3\n",
            "NPM sekarang : 26\n",
            "\n",
            "Pilih Operasi:\n",
            "1. Pertambahan\n",
            "2. Pengurangan\n",
            "3. Perkalian\n",
            "4. Undo\n",
            "5. Out\n",
            "Masukkan pilihan: 2\n",
            "Input angka: 4\n",
            "NPM sekarang : 22\n",
            "\n",
            "Pilih Operasi:\n",
            "1. Pertambahan\n",
            "2. Pengurangan\n",
            "3. Perkalian\n",
            "4. Undo\n",
            "5. Out\n",
            "Masukkan pilihan: 3\n",
            "Input angka: 2\n",
            "NPM sekarang : 44\n",
            "\n",
            "Pilih Operasi:\n",
            "1. Pertambahan\n",
            "2. Pengurangan\n",
            "3. Perkalian\n",
            "4. Undo\n",
            "5. Out\n",
            "Masukkan pilihan: 4\n",
            "Last operation was cancelled\n",
            "NPM sekarang : 22\n",
            "\n",
            "Pilih Operasi:\n",
            "1. Pertambahan\n",
            "2. Pengurangan\n",
            "3. Perkalian\n",
            "4. Undo\n",
            "5. Out\n",
            "Masukkan pilihan: 5\n",
            "Thank you for coming!\n"
          ]
        }
      ],
      "source": [
        "class Kalkulator:\n",
        "  def __init__(self, last_npm):\n",
        "    self.NPM = last_npm\n",
        "    self.history = []\n",
        "\n",
        "  def pertambahan(self, angka): # Operasi pertambahan\n",
        "    self.history.append(('+', angka))\n",
        "    self.NPM += angka\n",
        "    self.menampilkan_NPM() # Dipanggil setiap setelah operasi\n",
        "\n",
        "  def pengurangan(self, angka): # Operasi pengurangan\n",
        "    self.history.append(('-', angka))\n",
        "    self.NPM -= angka\n",
        "    self.menampilkan_NPM() # Dipanggil setiap setelah operasi\n",
        "\n",
        "  def perkalian(self, angka): # Operasi perkalian\n",
        "    self.history.append(('*', angka))\n",
        "    self.NPM *= angka\n",
        "    self.menampilkan_NPM() # Dipanggil setiap setelah operasi\n",
        "\n",
        "  def undo(self):\n",
        "    if not self.history:\n",
        "      print(\"Kosong, tidak ada operasi untuk dibatalkan!\")\n",
        "      return\n",
        "    operasi, angka = self.history.pop() # Mengambil last operasi\n",
        "    if operasi == '+':\n",
        "      self.NPM -= angka\n",
        "    elif operasi == '-':\n",
        "      self.NPM += angka\n",
        "    elif operasi == '*':\n",
        "      self.NPM //= angka\n",
        "    print(\"Last operation was cancelled\")\n",
        "    self.menampilkan_NPM() # Dipanggil setiap setelah operasi\n",
        "\n",
        "  def menampilkan_NPM(self):\n",
        "    print(f\"NPM sekarang : {self.NPM}\")\n",
        "\n",
        "# Penggunaan dengan 2 digit terakhir NPM (23)\n",
        "last_npm = 23\n",
        "kalkulator = Kalkulator(last_npm)\n",
        "\n",
        "print(\"----- KALKULATOR -----\")\n",
        "print()\n",
        "kalkulator.menampilkan_NPM()\n",
        "\n",
        "while True:\n",
        "  print(\"\\nPilih Operasi:\")\n",
        "  print(\"1. Pertambahan\")\n",
        "  print(\"2. Pengurangan\")\n",
        "  print(\"3. Perkalian\")\n",
        "  print(\"4. Undo\")\n",
        "  print(\"5. Out\")\n",
        "\n",
        "  pilih = input(\"Masukkan pilihan: \")\n",
        "  if pilih == '1':\n",
        "    angka = int(input(\"Input angka: \"))\n",
        "    kalkulator.pertambahan(angka)\n",
        "  elif pilih == '2':\n",
        "    angka = int(input(\"Input angka: \"))\n",
        "    kalkulator.pengurangan(angka)\n",
        "  elif pilih == '3':\n",
        "    angka = int(input(\"Input angka: \"))\n",
        "    kalkulator.perkalian(angka)\n",
        "  elif pilih == '4':\n",
        "    kalkulator.undo()\n",
        "  elif pilih == '5':\n",
        "    print(\"Thank you for coming!\")\n",
        "    break\n",
        "  else:\n",
        "    print(\"Invalid. Coba lagi!\")\n"
      ]
    },
    {
      "cell_type": "markdown",
      "metadata": {
        "id": "FRJX3_B4lron"
      },
      "source": [
        "Latihan 2\n",
        "\n",
        "- Contoh kode program"
      ]
    },
    {
      "cell_type": "code",
      "execution_count": null,
      "metadata": {
        "colab": {
          "base_uri": "https://localhost:8080/"
        },
        "id": "rww9yDC6ls7q",
        "outputId": "0695f62f-646e-476b-c6c4-8cd69bf107e6"
      },
      "outputs": [
        {
          "name": "stdout",
          "output_type": "stream",
          "text": [
            "Mengunjungi: google.com\n",
            "Mengunjungi: youtube.com\n",
            "Mengunjungi: github.com\n",
            "Kembali ke: github.com\n",
            "Kembali ke: youtube.com\n"
          ]
        }
      ],
      "source": [
        "from collections import deque\n",
        "\n",
        "class BrowserHistory:\n",
        "  def __init__(self):\n",
        "    self.history = deque()\n",
        "\n",
        "  def visit(self, url):\n",
        "    self.history.append(url)\n",
        "    print(f\"Mengunjungi: {url}\")\n",
        "\n",
        "  def back(self):\n",
        "    if self.history:\n",
        "      print(f\"Kembali ke: {self.history.pop()}\")\n",
        "    else:\n",
        "      print(\"Tiadak ada riwayat!\")\n",
        "\n",
        "# Contoh Penggunaan\n",
        "browser = BrowserHistory()\n",
        "browser.visit(\"google.com\")\n",
        "browser.visit(\"youtube.com\")\n",
        "browser.visit(\"github.com\")\n",
        "\n",
        "browser.back()\n",
        "browser.back()\n"
      ]
    },
    {
      "cell_type": "markdown",
      "metadata": {
        "id": "CRm3GGpe3BbK"
      },
      "source": [
        "- SOAL\n",
        "\n",
        "Buatlah program \"Navigasi History Aplikasi Mobile\", di mana fitur aplikasi yang dikunjungi disimpan dalam stack. Gunakan huruf pertama bulan lahir + dua digit terakhir NPM sebagai nama fitur aplikasi. Simpan minimal 3 fitur sebelum menguji tombol back."
      ]
    },
    {
      "cell_type": "code",
      "execution_count": 44,
      "metadata": {
        "colab": {
          "base_uri": "https://localhost:8080/"
        },
        "id": "_0FW3cDJnQck",
        "outputId": "d4baaa98-c478-48d3-9342-39c30556702b"
      },
      "outputs": [
        {
          "output_type": "stream",
          "name": "stdout",
          "text": [
            "----- Navigasi History Aplikasi Mobile -----\n",
            "            Nama Aplikasi -> F23\n",
            "\n",
            " RULES:\n",
            "1. Ketik 'back' untuk kembali ke fitur sebelumnya\n",
            "2. Ketik 'out' untuk keluar dari aplikasi\n",
            "\n",
            "Masukkan nama fitur yang akan dikunjungi: Timeline\n",
            "Sedang mengunjungi: Timeline\n",
            "\n",
            "Masukkan nama fitur yang akan dikunjungi: Beranda\n",
            "Sedang mengunjungi: Beranda\n",
            "\n",
            "Masukkan nama fitur yang akan dikunjungi: Profile\n",
            "Sedang mengunjungi: Profile\n",
            "\n",
            "Masukkan nama fitur yang akan dikunjungi: back\n",
            "Back to: Profile\n",
            "\n",
            "Masukkan nama fitur yang akan dikunjungi: back\n",
            "Back to: Beranda\n",
            "\n",
            "Masukkan nama fitur yang akan dikunjungi: back\n",
            "Back to: Timeline\n",
            "\n",
            "Masukkan nama fitur yang akan dikunjungi: back\n",
            "Invalid, tidak ada fitur!\n",
            "\n",
            "Masukkan nama fitur yang akan dikunjungi: out\n",
            "Thank you for coming!\n"
          ]
        }
      ],
      "source": [
        "from collections import deque\n",
        "\n",
        "class Navigation:\n",
        "  def __init__(self, first_fitur):\n",
        "    self.history = deque() # Menyimpan riwayat navigasi\n",
        "    self.first_fitur = first_fitur # Menyimpan fitur\n",
        "\n",
        "  def fitur_visit(self, fitur_name):\n",
        "    self.history.append(fitur_name) # Menambahkan fitur ke riwayat\n",
        "    print(f\"Sedang mengunjungi: {fitur_name}\")\n",
        "\n",
        "  def kembali(self): # Kembali ke fitur sebelumnya\n",
        "    if self.history:\n",
        "      fitur_sebelumnya = self.history.pop()\n",
        "      print(f\"Back to: {fitur_sebelumnya}\")\n",
        "    else:\n",
        "      print(\"Invalid, tidak ada fitur!\") # Pesan kesalahan ketika stack kosong\n",
        "\n",
        "# Contoh dengan F23 sebagai nama fitur aplikasi\n",
        "first_fitur = \"F23\" # Bulan Februari dan NPM 23\n",
        "navigation = Navigation(first_fitur)\n",
        "\n",
        "print(\"----- Navigasi History Aplikasi Mobile -----\")\n",
        "print(f\"            Nama Aplikasi -> {first_fitur}\")\n",
        "print(\"\\n RULES:\")\n",
        "print(\"1. Ketik 'back' untuk kembali ke fitur sebelumnya\")\n",
        "print(\"2. Ketik 'out' untuk keluar dari aplikasi\")\n",
        "\n",
        "while True:\n",
        "  fitur_name = input(\"\\nMasukkan nama fitur yang akan dikunjungi: \")\n",
        "  if fitur_name.lower() == 'back':\n",
        "    navigation.kembali()\n",
        "  elif fitur_name.lower() == 'out':\n",
        "    print(\"Thank you for coming!\")\n",
        "    break\n",
        "  else:\n",
        "    navigation.fitur_visit(fitur_name)"
      ]
    },
    {
      "cell_type": "markdown",
      "metadata": {
        "id": "aSlt-Y-a3chU"
      },
      "source": [
        "Latihan 3\n",
        "\n",
        "- Contoh kode program"
      ]
    },
    {
      "cell_type": "code",
      "execution_count": null,
      "metadata": {
        "colab": {
          "base_uri": "https://localhost:8080/"
        },
        "id": "oSVErbtP3kUW",
        "outputId": "40af7d13-33fb-4bfd-d1bf-09d2a1d942bf"
      },
      "outputs": [
        {
          "name": "stdout",
          "output_type": "stream",
          "text": [
            "Versi terbaru: Backup_3\n"
          ]
        }
      ],
      "source": [
        "from queue import LifoQueue\n",
        "\n",
        "class BackupSystem:\n",
        "  def __init__(self):\n",
        "    self.backups = LifoQueue()\n",
        "\n",
        "  def backup(self, version):\n",
        "    self.backups.put(version)\n",
        "\n",
        "  def latest_backup(self):\n",
        "    if not self.backups.empty():\n",
        "      return f\"Versi terbaru: {self.backups.queue[-1]}\"\n",
        "    return \"Tidak ada cadangan!\"\n",
        "\n",
        "# Contoh Penggunaan\n",
        "backup_system = BackupSystem()\n",
        "backup_system.backup(\"Backup_1\")\n",
        "backup_system.backup(\"Backup_2\")\n",
        "backup_system.backup(\"Backup_3\")\n",
        "\n",
        "print(backup_system.latest_backup())"
      ]
    },
    {
      "cell_type": "markdown",
      "metadata": {
        "id": "IJAdlId646oz"
      },
      "source": [
        "- SOAL\n",
        "\n",
        "Buatlah program \"Sistem Penyimpanan Draft Email\", di mana email yang bekum dikirim disimpan dalam stack. Gunakan dua huruf pertama nama mahasiswa + dua digit terakhir NPM sebagai subjek email. Simpan minimal 3 draft email sebelum menguji fitur \"Lihar Draft Terakhir\"."
      ]
    },
    {
      "cell_type": "code",
      "execution_count": 1,
      "metadata": {
        "id": "tR-FOFdL4pjd",
        "colab": {
          "base_uri": "https://localhost:8080/"
        },
        "outputId": "07df885b-5b7e-4f32-c134-d24eaa6ecd06"
      },
      "outputs": [
        {
          "output_type": "stream",
          "name": "stdout",
          "text": [
            "----- Sistem Penyimpanan Draft Email -----\n",
            "            Subjek Email -> az23\n",
            "\n",
            "Pilih:\n",
            "1. Simpan Draft\n",
            "2. Lihat Draft Terakhir\n",
            "3. Out\n",
            "Masukkan pilihan: 1\n",
            "Masukkan isi email: i've been searching for an empty box\n",
            "Draft berhasil disimpan!\n",
            "\n",
            "Pilih:\n",
            "1. Simpan Draft\n",
            "2. Lihat Draft Terakhir\n",
            "3. Out\n",
            "Masukkan pilihan: 1\n",
            "Masukkan isi email: leave everything behind\n",
            "Draft berhasil disimpan!\n",
            "\n",
            "Pilih:\n",
            "1. Simpan Draft\n",
            "2. Lihat Draft Terakhir\n",
            "3. Out\n",
            "Masukkan pilihan: 1\n",
            "Masukkan isi email: something more than better\n",
            "Draft berhasil disimpan!\n",
            "\n",
            "Pilih:\n",
            "1. Simpan Draft\n",
            "2. Lihat Draft Terakhir\n",
            "3. Out\n",
            "Masukkan pilihan: 2\n",
            "Daftar Terakhir: something more than better\n",
            "\n",
            "Pilih:\n",
            "1. Simpan Draft\n",
            "2. Lihat Draft Terakhir\n",
            "3. Out\n",
            "Masukkan pilihan: 3\n",
            "Thank you for coming!\n"
          ]
        }
      ],
      "source": [
        "from queue import LifoQueue\n",
        "\n",
        "class EmailDraft:\n",
        "  def __init__(self, subjek):\n",
        "    self.draft = LifoQueue()\n",
        "    self.subjek = subjek\n",
        "\n",
        "\n",
        "  def simpan(self, email):\n",
        "    self.draft.put(email)\n",
        "    print(\"Draft berhasil disimpan!\")\n",
        "\n",
        "  def last_draft(self):\n",
        "    if not self.draft.empty():\n",
        "      return f\"Daftar Terakhir: {self.draft.queue[-1]}\"\n",
        "    return \"Tidak ada draft!\"\n",
        "\n",
        "# Contoh dengan az23 sebagai subjek email\n",
        "draft_sistem = EmailDraft(subjek=\"az23\") # Nama azzahra dan NPM 23\n",
        "\n",
        "print(\"----- Sistem Penyimpanan Draft Email -----\")\n",
        "print(f\"            Subjek Email -> az23\")\n",
        "\n",
        "while True:\n",
        "  print(\"\\nPilih:\")\n",
        "  print(\"1. Simpan Draft\")\n",
        "  print(\"2. Lihat Draft Terakhir\")\n",
        "  print(\"3. Out\")\n",
        "\n",
        "  pilih = input(\"Masukkan pilihan: \")\n",
        "  if pilih == '1':\n",
        "    email = input(\"Masukkan isi email: \")\n",
        "    draft_sistem.simpan(email)\n",
        "  elif pilih == '2':\n",
        "    print(draft_sistem.last_draft())\n",
        "  elif pilih == '3':\n",
        "    print(\"Thank you for coming!\")\n",
        "    break\n",
        "  else:\n",
        "    print(\"Invalid. Masukkan sesuai opsi!\") # Pesan kesalahan ketika yang dimasukkan tidak sesuai opsi\n",
        "\n"
      ]
    },
    {
      "cell_type": "markdown",
      "metadata": {
        "id": "ILEJWRE95UFW"
      },
      "source": [
        "Latihan 4\n",
        "\n",
        "- Contoh kode program"
      ]
    },
    {
      "cell_type": "code",
      "execution_count": null,
      "metadata": {
        "colab": {
          "base_uri": "https://localhost:8080/"
        },
        "id": "QwoOlKS45Xp8",
        "outputId": "dbae2877-139b-490c-caf5-a8806abbbc3b"
      },
      "outputs": [
        {
          "name": "stdout",
          "output_type": "stream",
          "text": [
            "Memproses tiket: Tiket 002\n",
            "False\n"
          ]
        }
      ],
      "source": [
        "class CustomerService:\n",
        "  def __init__(self):\n",
        "    self.tickets = []\n",
        "\n",
        "  def add_ticket(self, ticket):\n",
        "    self.tickets.append(ticket)\n",
        "\n",
        "  def process_tickets(self):\n",
        "    if not self.is_empty():\n",
        "      return f\"Memproses tiket: {self.tickets.pop()}\"\n",
        "    return \"Tidak ada tiket yang harus diproses.\"\n",
        "\n",
        "  def is_empty(self):\n",
        "    return len(self.tickets) == 0\n",
        "\n",
        "\n",
        "# Contoh penggunaan\n",
        "service = CustomerService()\n",
        "service.add_ticket(\"Tiket 001\")\n",
        "service.add_ticket(\"Tiket 002\")\n",
        "\n",
        "print(service.process_tickets())\n",
        "print(service.is_empty())\n"
      ]
    },
    {
      "cell_type": "markdown",
      "metadata": {
        "id": "Lp-Ne_Yf6dZb"
      },
      "source": [
        "- SOAL\n",
        "\n",
        "Buatlah program \"Sistem Antrean Tiket Bioskop\", di mana pelanggan membeli tiket film dan antrean disimpan dalam stack. Gunakan huruf pertama bulan lahir + dua digit terakhir NPM sebagai nama film. Beli minimal 3 tiket sebelum menguji sistem pemrosesan tiket."
      ]
    },
    {
      "cell_type": "code",
      "source": [
        "from collections import deque\n",
        "\n",
        "class AntreanTiket:\n",
        "  def __init__(self):\n",
        "    self.antrean = deque()\n",
        "\n",
        "  def buy_tiket(self, film_name, nama, jumlah_tiket):\n",
        "    self.antrean.append((nama, jumlah_tiket, film_name))\n",
        "    print(f\"{nama} membeli {jumlah_tiket} tiket untuk {film_name}.\")\n",
        "\n",
        "  def proses(self):\n",
        "    if self.antrean:\n",
        "      nama, jumlah_tiket, film_name = self.antrean.popleft()\n",
        "      print(f\"Memproses tiket untuk {nama}, dengan {jumlah_tiket} tiket untuk film {film_name}.\")\n",
        "    else:\n",
        "      print(\"Tidak ada tiket, antrean kosong!\")\n",
        "\n",
        "  def is_empty(self):\n",
        "    return len(self.antrean) == 0\n",
        "\n",
        "# Contoh dengan F23 sebagai nama film\n",
        "antrean_tiket = AntreanTiket()\n",
        "\n",
        "print(\"----- Sistem Antrean Tiket Bioskop -----\")\n",
        "\n",
        "while True:\n",
        "  print(\"\\nPilih:\")\n",
        "  print(\"1. Beli Tiket\")\n",
        "  print(\"2. Proses Antrean\")\n",
        "  print(\"3. Out\")\n",
        "\n",
        "  pilih = input(\"Masukkan pilihan: \")\n",
        "\n",
        "  if pilih == '1':\n",
        "    film_name = input(\"Nama film: \")\n",
        "    nama = input(\"Nama pembeli: \")\n",
        "    jumlah_tiket = input(\"Jumlah tiket: \")\n",
        "    antrean_tiket.buy_tiket(film_name, nama, jumlah_tiket)\n",
        "  elif pilih == '2':\n",
        "    antrean_tiket.proses()\n",
        "  elif pilih == '3':\n",
        "    print(\"Thank you for coming!\")\n",
        "    break\n",
        "  else:\n",
        "    print(\"Invalid. Masukkan sesuai opsi!\") # Pesan kesalahan ketika yang dimasukkan tidak sesuai opsi"
      ],
      "metadata": {
        "colab": {
          "base_uri": "https://localhost:8080/"
        },
        "id": "E5fT_vzBtJv-",
        "outputId": "02d8a3d3-386e-4b0b-e96b-24a4d854b620"
      },
      "execution_count": 7,
      "outputs": [
        {
          "output_type": "stream",
          "name": "stdout",
          "text": [
            "----- Sistem Antrean Tiket Bioskop -----\n",
            "\n",
            "Pilih:\n",
            "1. Beli Tiket\n",
            "2. Proses Antrean\n",
            "3. Out\n",
            "Masukkan pilihan: 1\n",
            "Nama film: F23\n",
            "Nama pembeli: Wima\n",
            "Jumlah tiket: 2\n",
            "Wima membeli 2 tiket untuk F23.\n",
            "\n",
            "Pilih:\n",
            "1. Beli Tiket\n",
            "2. Proses Antrean\n",
            "3. Out\n",
            "Masukkan pilihan: 1\n",
            "Nama film: F23\n",
            "Nama pembeli: Joana\n",
            "Jumlah tiket: 3\n",
            "Joana membeli 3 tiket untuk F23.\n",
            "\n",
            "Pilih:\n",
            "1. Beli Tiket\n",
            "2. Proses Antrean\n",
            "3. Out\n",
            "Masukkan pilihan: 1\n",
            "Nama film: F23\n",
            "Nama pembeli: Nora\n",
            "Jumlah tiket: 1\n",
            "Nora membeli 1 tiket untuk F23.\n",
            "\n",
            "Pilih:\n",
            "1. Beli Tiket\n",
            "2. Proses Antrean\n",
            "3. Out\n",
            "Masukkan pilihan: 2\n",
            "Memproses tiket untuk Wima, dengan 2 tiket untuk film F23.\n",
            "\n",
            "Pilih:\n",
            "1. Beli Tiket\n",
            "2. Proses Antrean\n",
            "3. Out\n",
            "Masukkan pilihan: 2\n",
            "Memproses tiket untuk Joana, dengan 3 tiket untuk film F23.\n",
            "\n",
            "Pilih:\n",
            "1. Beli Tiket\n",
            "2. Proses Antrean\n",
            "3. Out\n",
            "Masukkan pilihan: 2\n",
            "Memproses tiket untuk Nora, dengan 1 tiket untuk film F23.\n",
            "\n",
            "Pilih:\n",
            "1. Beli Tiket\n",
            "2. Proses Antrean\n",
            "3. Out\n",
            "Masukkan pilihan: 2\n",
            "Tidak ada tiket, antrean kosong!\n",
            "\n",
            "Pilih:\n",
            "1. Beli Tiket\n",
            "2. Proses Antrean\n",
            "3. Out\n",
            "Masukkan pilihan: 3\n",
            "Thank you for coming!\n"
          ]
        }
      ]
    }
  ],
  "metadata": {
    "colab": {
      "provenance": [],
      "authorship_tag": "ABX9TyOx6dOqpqDnT/Vm4gGr6MCs",
      "include_colab_link": true
    },
    "kernelspec": {
      "display_name": "Python 3",
      "name": "python3"
    },
    "language_info": {
      "name": "python"
    }
  },
  "nbformat": 4,
  "nbformat_minor": 0
}