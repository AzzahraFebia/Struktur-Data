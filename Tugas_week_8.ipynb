{
  "nbformat": 4,
  "nbformat_minor": 0,
  "metadata": {
    "colab": {
      "provenance": [],
      "authorship_tag": "ABX9TyNbR3g4nvNS2jLyaai+5KoQ",
      "include_colab_link": true
    },
    "kernelspec": {
      "name": "python3",
      "display_name": "Python 3"
    },
    "language_info": {
      "name": "python"
    }
  },
  "cells": [
    {
      "cell_type": "markdown",
      "metadata": {
        "id": "view-in-github",
        "colab_type": "text"
      },
      "source": [
        "<a href=\"https://colab.research.google.com/github/AzzahraFebia/Struktur-Data/blob/main/Tugas_week_8.ipynb\" target=\"_parent\"><img src=\"https://colab.research.google.com/assets/colab-badge.svg\" alt=\"Open In Colab\"/></a>"
      ]
    },
    {
      "cell_type": "markdown",
      "source": [
        "1. Buatlah graf tak berarah baru dengan minimal 5 simpul dan 7 sisi, lalu tampilkan\n",
        "dengan fungsi print_graph."
      ],
      "metadata": {
        "id": "_OVMVaedkusw"
      }
    },
    {
      "cell_type": "code",
      "source": [
        "# Membuat graf tak berarah\n",
        "graph = {\n",
        "    'A': ['B', 'C'],\n",
        "    'B': ['A', 'D', 'E'],\n",
        "    'C': ['A', 'F'],\n",
        "    'D': ['B','E'],\n",
        "    'E': ['B','D','F','G'],\n",
        "    'F': ['C', 'E','G'],\n",
        "    'G': ['E','F']\n",
        "}\n",
        "\n",
        "# Menampilkan graf\n",
        "def print_graph(graf):\n",
        "  for node in graf:\n",
        "    print(f\"{node} -> {graf[node]}\")\n",
        "\n",
        "print_graph(graph)\n"
      ],
      "metadata": {
        "colab": {
          "base_uri": "https://localhost:8080/"
        },
        "id": "yQ4CUYCtlrfM",
        "outputId": "23f8409c-4ad9-45c0-c986-b84be8c48b24"
      },
      "execution_count": 38,
      "outputs": [
        {
          "output_type": "stream",
          "name": "stdout",
          "text": [
            "A -> ['B', 'C']\n",
            "B -> ['A', 'D', 'E']\n",
            "C -> ['A', 'F']\n",
            "D -> ['B', 'E']\n",
            "E -> ['B', 'D', 'F', 'G']\n",
            "F -> ['C', 'E', 'G']\n",
            "G -> ['E', 'F']\n"
          ]
        }
      ]
    },
    {
      "cell_type": "markdown",
      "source": [
        "2. Implementasikan BFS dan DFS dari simpul awal pilihan Anda.\n"
      ],
      "metadata": {
        "id": "uw_5s4y5n5wE"
      }
    },
    {
      "cell_type": "code",
      "source": [
        "# IMPLEMENTASI BFS\n",
        "from collections import deque\n",
        "\n",
        "def bfs(graph, start):\n",
        "  visited = set()\n",
        "  queue = deque([start])\n",
        "\n",
        "  while queue:\n",
        "    vertex = queue.popleft()\n",
        "    if vertex not in visited:\n",
        "      print(vertex, end=\" \")\n",
        "      visited.add(vertex)\n",
        "      queue.extend([neighbour for neighbour in graph[vertex] if neighbour not in visited])\n",
        "\n",
        "# Contoh pemanggilan\n",
        "print(\"Implementasi BFS:\")\n",
        "bfs(graph, 'A')\n",
        "\n",
        "# IMPLEMENTASI DFS\n",
        "def dfs(graph, start, visited=None):\n",
        "  if visited is None:\n",
        "    visited = set()\n",
        "\n",
        "  if start not in visited:\n",
        "    print(start, end=\" \")\n",
        "    visited.add(start)\n",
        "    for neighbor in graph[start]:\n",
        "      dfs(graph,neighbor,visited)\n",
        "\n",
        "# Contoh pemanggilan\n",
        "print(\"\\n\\nImplementasi DFS:\")\n",
        "dfs(graph, 'A')"
      ],
      "metadata": {
        "colab": {
          "base_uri": "https://localhost:8080/"
        },
        "id": "i2X5Pv52nwvo",
        "outputId": "b3c767a3-b144-4ecf-df8e-7f803d79a87a"
      },
      "execution_count": 39,
      "outputs": [
        {
          "output_type": "stream",
          "name": "stdout",
          "text": [
            "Implementasi BFS:\n",
            "A B C D E F G \n",
            "\n",
            "Implementasi DFS:\n",
            "A B D E F C G "
          ]
        }
      ]
    },
    {
      "cell_type": "markdown",
      "source": [
        "3.  Modifikasi fungsi BFS agar mengembalikan list urutan kunjungan, bukan hanya\n",
        "mencetak."
      ],
      "metadata": {
        "id": "abKcoUm2yw0U"
      }
    },
    {
      "cell_type": "code",
      "source": [
        "from collections import deque\n",
        "\n",
        "def bfs(graph, start):\n",
        "  visited = set()\n",
        "  queue = deque([start])\n",
        "  # Membuat empty list untuk urutan kunjungan\n",
        "  visit = []\n",
        "\n",
        "  while queue:\n",
        "    vertex = queue.popleft()\n",
        "    if vertex not in visited:\n",
        "      # Menambah simpul kedalam list ututan kunjungan\n",
        "      visit.append(vertex)\n",
        "      visited.add(vertex)\n",
        "      queue.extend([neighbour for neighbour in graph[vertex] if neighbour not in visited])\n",
        "\n",
        "  # Mengambalikan list urutan kunjungan\n",
        "  return visit\n",
        "\n",
        "# Contoh pemanggilan\n",
        "bfs_visit = bfs(graph, 'A')\n",
        "print(\"Urutan kunjungan BFS:\", bfs_visit)"
      ],
      "metadata": {
        "colab": {
          "base_uri": "https://localhost:8080/"
        },
        "id": "GZzAbeJtzYmo",
        "outputId": "4656eb83-6900-414e-c3d1-24173be23901"
      },
      "execution_count": 40,
      "outputs": [
        {
          "output_type": "stream",
          "name": "stdout",
          "text": [
            "Urutan kunjungan BFS: ['A', 'B', 'C', 'D', 'E', 'F', 'G']\n"
          ]
        }
      ]
    },
    {
      "cell_type": "markdown",
      "source": [
        "4. Buat fungsi find_path (graph, start, end) yang mengembalikan satu jalur dari start\n",
        "ke end jika ada, menggunakan DFS."
      ],
      "metadata": {
        "id": "VNSesu2E1hAs"
      }
    },
    {
      "cell_type": "code",
      "source": [
        "# Fungsi find_path\n",
        "def find_path(graph, start, end, path=None):\n",
        "  if path is None: # Jika path belum ada, inisialisasi dengan empty list\n",
        "    path = []\n",
        "  path = path + [start] # Membuat objek list baru\n",
        "  if start == end: # Jika simpul sekarang adalah tujuannya, maka mengembalikan path\n",
        "    return path\n",
        "  if start not in graph: # Jika simpul sekarang tidak ada dalam graf, maka mengembalikan None\n",
        "    return None\n",
        "\n",
        "# Iterasi atau loop melalui tetangga\n",
        "  for neighbor in graph[start]:\n",
        "    if neighbor not in path:\n",
        "    # Rekursif fungsi untuk mencari jalur dari tetangga ke tujuan\n",
        "      found_path = find_path(graph, neighbor, end, path.copy())\n",
        "    # Jika rekursif menemukan jalur, kembalikan jalur tersebut\n",
        "      if found_path:\n",
        "        return found_path\n",
        "  # Jika tidak ada jalur yang ditemukan hingga iterasi selesai maka kembalikan none\n",
        "  return None\n",
        "\n",
        "# Contoh pemanggilan\n",
        "graph = {\n",
        "    'A': ['B', 'C'],\n",
        "    'B': ['A', 'D', 'E'],\n",
        "    'C': ['A', 'F'],\n",
        "    'D': ['B','E'],\n",
        "    'E': ['B','D','F','G'],\n",
        "    'F': ['C', 'E','G'],\n",
        "    'G': ['E','F']\n",
        "}\n",
        "\n",
        "# Mencari jalur\n",
        "print(\"          ----PENCARIAN JALUR----\\n\")\n",
        "print(\"Jalur A ke G:\", find_path(graph, 'A', 'G'))\n",
        "print(\"Jalur C ke F:\", find_path(graph, 'C', 'F'))\n",
        "print(\"Jalur G ke A:\", find_path(graph, 'G', 'A'))\n"
      ],
      "metadata": {
        "colab": {
          "base_uri": "https://localhost:8080/"
        },
        "id": "yVd4Mk7X1OCE",
        "outputId": "a9a3952d-cfb3-4b55-a217-41b4a4965ca5"
      },
      "execution_count": 41,
      "outputs": [
        {
          "output_type": "stream",
          "name": "stdout",
          "text": [
            "          ----PENCARIAN JALUR----\n",
            "\n",
            "Jalur A ke G: ['A', 'B', 'D', 'E', 'F', 'G']\n",
            "Jalur C ke F: ['C', 'A', 'B', 'D', 'E', 'F']\n",
            "Jalur G ke A: ['G', 'E', 'B', 'A']\n"
          ]
        }
      ]
    },
    {
      "cell_type": "markdown",
      "source": [
        "5. Tambahkan fungsi is_connected (graph) untuk mengecek apakah semua simpul\n",
        "dalam graf saling terhubung (gunakan kombinasi DFS + logika).\n"
      ],
      "metadata": {
        "id": "98_tvHaG-rzj"
      }
    },
    {
      "cell_type": "code",
      "source": [
        "# Mengecek apakah simpul saling terhubung\n",
        "def is_connected(graph):\n",
        "   start_node = list(graph.keys())[0]\n",
        "   visited = set()\n",
        "   dfs(graph, start_node, visited)\n",
        "   return len(visited) == len(graph)\n",
        "\n",
        "print(\"DFS:\")\n",
        "print(\"\\nApa graf saling terhubung?\", is_connected(graph))\n"
      ],
      "metadata": {
        "colab": {
          "base_uri": "https://localhost:8080/"
        },
        "id": "gzmI4Wkw71w6",
        "outputId": "06e29d43-e196-4493-d5a4-913c1652732b"
      },
      "execution_count": 52,
      "outputs": [
        {
          "output_type": "stream",
          "name": "stdout",
          "text": [
            "DFS:\n",
            "A B D E F C G \n",
            "Apa graf saling terhubung? True\n"
          ]
        }
      ]
    },
    {
      "cell_type": "code",
      "source": [],
      "metadata": {
        "id": "Qq1yHjy6BU12"
      },
      "execution_count": null,
      "outputs": []
    }
  ]
}