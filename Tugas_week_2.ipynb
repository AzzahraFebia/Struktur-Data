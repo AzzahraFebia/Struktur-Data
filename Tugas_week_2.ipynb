{
  "nbformat": 4,
  "nbformat_minor": 0,
  "metadata": {
    "colab": {
      "provenance": [],
      "authorship_tag": "ABX9TyO04F/LMcDyqmOpK6VHs4th",
      "include_colab_link": true
    },
    "kernelspec": {
      "name": "python3",
      "display_name": "Python 3"
    },
    "language_info": {
      "name": "python"
    }
  },
  "cells": [
    {
      "cell_type": "markdown",
      "metadata": {
        "id": "view-in-github",
        "colab_type": "text"
      },
      "source": [
        "<a href=\"https://colab.research.google.com/github/AzzahraFebia/Struktur-Data/blob/main/Tugas_week_2.ipynb\" target=\"_parent\"><img src=\"https://colab.research.google.com/assets/colab-badge.svg\" alt=\"Open In Colab\"/></a>"
      ]
    },
    {
      "cell_type": "code",
      "source": [
        "# Membuat kelas satpam\n",
        "class Satpam:\n",
        "    def __init__(self, nama):\n",
        "        self.nama = nama\n",
        "        self.next = None\n",
        "\n",
        "# Membuat kelas piket satpam as jadwal satpam\n",
        "class PiketSatpam:\n",
        "    def __init__(self):\n",
        "        self.head = None\n",
        "        self.current = None\n",
        "\n",
        "# Menambah nama satpam\n",
        "    def tambah_satpam(self, nama):\n",
        "        satpam_new = Satpam(nama)\n",
        "        if not self.head:\n",
        "            self.head = satpam_new\n",
        "            satpam_new.next = self.head  # Circular linked list\n",
        "            self.current = self.head\n",
        "        else:\n",
        "            temp = self.head\n",
        "            while temp.next != self.head:\n",
        "                temp = temp.next\n",
        "            temp.next = satpam_new\n",
        "            satpam_new.next = self.head  # Circular linked list\n",
        "\n",
        "# Mencetak jadwal satpam\n",
        "    def cetak_jadwal(self, jumlah_hari):\n",
        "        if not self.head:\n",
        "            print(\"Tidak ada jadwal piket satpam.\")\n",
        "            return\n",
        "\n",
        "        print(\"\\n====== Jadwal Piket Satpam ======\")\n",
        "        print(\"       - Selama 2 Minggu -    \")\n",
        "        print(\"     -----------------------\")\n",
        "        satpam_now = self.head\n",
        "        for hari in range(1, jumlah_hari + 1):\n",
        "            print(f\"Hari {hari}: {satpam_now.nama}\")\n",
        "            satpam_now = satpam_now.next\n",
        "\n",
        "# ===== Program Utama ===== #\n",
        "jadwal_satpam = PiketSatpam()\n",
        "\n",
        "# Memasukkan nama satpam\n",
        "satpam1 = input(\"Masukkan nama satpam ke-1: \")\n",
        "satpam2 = input(\"Masukkan nama satpam ke-2: \")\n",
        "satpam3 = input(\"Masukkan nama satpam ke-3: \")\n",
        "satpam4 = input(\"Masukkan nama satpam ke-4: \")\n",
        "\n",
        "# Menambahkan nama satpam ke jadwal\n",
        "jadwal_satpam.tambah_satpam(satpam1)\n",
        "jadwal_satpam.tambah_satpam(satpam2)\n",
        "jadwal_satpam.tambah_satpam(satpam3)\n",
        "jadwal_satpam.tambah_satpam(satpam4)\n",
        "\n",
        "# Cetak jadwal piket\n",
        "jadwal_satpam.cetak_jadwal(14) # tertulis 14 karna 2 minggu ada 14 hari"
      ],
      "metadata": {
        "colab": {
          "base_uri": "https://localhost:8080/"
        },
        "id": "oaBtgPyR8SFJ",
        "outputId": "0c4ef6f8-93d0-4b87-ca65-6113f1cd7e53"
      },
      "execution_count": 6,
      "outputs": [
        {
          "output_type": "stream",
          "name": "stdout",
          "text": [
            "Masukkan nama satpam ke-1: Azzahra\n",
            "Masukkan nama satpam ke-2: Hani\n",
            "Masukkan nama satpam ke-3: Chanif\n",
            "Masukkan nama satpam ke-4: Nofiya\n",
            "\n",
            "====== Jadwal Piket Satpam ======\n",
            "       - Selama 2 Minggu -    \n",
            "     -----------------------\n",
            "Hari 1: Azzahra\n",
            "Hari 2: Hani\n",
            "Hari 3: Chanif\n",
            "Hari 4: Nofiya\n",
            "Hari 5: Azzahra\n",
            "Hari 6: Hani\n",
            "Hari 7: Chanif\n",
            "Hari 8: Nofiya\n",
            "Hari 9: Azzahra\n",
            "Hari 10: Hani\n",
            "Hari 11: Chanif\n",
            "Hari 12: Nofiya\n",
            "Hari 13: Azzahra\n",
            "Hari 14: Hani\n"
          ]
        }
      ]
    },
    {
      "cell_type": "code",
      "source": [],
      "metadata": {
        "id": "G4v3bpjHhkcq"
      },
      "execution_count": null,
      "outputs": []
    }
  ]
}