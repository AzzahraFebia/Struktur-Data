{
  "nbformat": 4,
  "nbformat_minor": 0,
  "metadata": {
    "colab": {
      "provenance": [],
      "authorship_tag": "ABX9TyPmX7CnJPQ777JaDgJ97Sqk",
      "include_colab_link": true
    },
    "kernelspec": {
      "name": "python3",
      "display_name": "Python 3"
    },
    "language_info": {
      "name": "python"
    }
  },
  "cells": [
    {
      "cell_type": "markdown",
      "metadata": {
        "id": "view-in-github",
        "colab_type": "text"
      },
      "source": [
        "<a href=\"https://colab.research.google.com/github/AzzahraFebia/Struktur-Data/blob/main/Tugas_week7.ipynb\" target=\"_parent\"><img src=\"https://colab.research.google.com/assets/colab-badge.svg\" alt=\"Open In Colab\"/></a>"
      ]
    },
    {
      "cell_type": "markdown",
      "source": [
        "IMPLEMENTASI BINARY SEARCH"
      ],
      "metadata": {
        "id": "YPRD-dK8Qfkg"
      }
    },
    {
      "cell_type": "code",
      "source": [
        "class Node:\n",
        "  def __init__(self, data):\n",
        "    self.data = data\n",
        "    self.left = None\n",
        "    self.right = None\n",
        "\n",
        "# Membuat tree secara manual\n",
        "root = Node(1)\n",
        "root.left = Node(2)\n",
        "root.right = Node(3)\n",
        "root.left.left = Node(4)\n",
        "root.left.right = Node(5)\n",
        "\n",
        "# Fungsi inorder traversal\n",
        "def inorder(node):\n",
        "  if node:\n",
        "    inorder(node.left)\n",
        "    print(node.data, end=' ')\n",
        "    inorder(node.right)\n",
        "\n",
        "print(\"Hasil inorder traversal dari binary tree: \")\n",
        "inorder(root)"
      ],
      "metadata": {
        "colab": {
          "base_uri": "https://localhost:8080/"
        },
        "id": "USXrwE1IQ4GA",
        "outputId": "5a2d5c89-aa82-44e3-a348-47431a3751dd"
      },
      "execution_count": null,
      "outputs": [
        {
          "output_type": "stream",
          "name": "stdout",
          "text": [
            "Hasil inorder traversal dari binary tree: \n",
            "4 2 5 1 3 "
          ]
        }
      ]
    },
    {
      "cell_type": "markdown",
      "source": [
        "IMPLEMENTASI BINARY SEARCH TREE"
      ],
      "metadata": {
        "id": "zCaOHKB2R_8Y"
      }
    },
    {
      "cell_type": "code",
      "source": [
        "class Node:\n",
        "  def __init__(self, data):\n",
        "    self.data = data\n",
        "    self.left = None\n",
        "    self.right = None\n",
        "\n",
        "class BinarySearchTree:\n",
        "  def __init__(self):\n",
        "    self.root = None\n",
        "  def insert(self, root, data):\n",
        "    if root is None:\n",
        "      return Node(data)\n",
        "    if data < root.data:\n",
        "      root.left = self.insert(root.left, data)\n",
        "    else:\n",
        "      root.right = self.insert(root.right, data)\n",
        "    return root\n",
        "\n",
        "bst = BinarySearchTree()\n",
        "root = None\n",
        "data_list = [50, 30, 70, 20, 40, 60 ,80]\n",
        "for value in data_list:\n",
        "  root = bst.insert(root, value)\n"
      ],
      "metadata": {
        "id": "KNUzFkBuU-Ih"
      },
      "execution_count": null,
      "outputs": []
    },
    {
      "cell_type": "markdown",
      "source": [
        "IMPLEMENTASI TRAVERSAL PADA BST"
      ],
      "metadata": {
        "id": "0TdtWtuwVMif"
      }
    },
    {
      "cell_type": "code",
      "source": [
        "def inorder(node):\n",
        "  if node:\n",
        "    inorder(node.left)\n",
        "    print(node.data, end=' ')\n",
        "    inorder(node.right)\n",
        "\n",
        "def preorder(node):\n",
        "  if node:\n",
        "    print(node.data, end=' ')\n",
        "    preorder(node.left)\n",
        "    preorder(node.right)\n",
        "\n",
        "def postorder(node):\n",
        "  if node:\n",
        "    postorder(node.left)\n",
        "    postorder(node.right)\n",
        "    print(node.data, end=' ')\n",
        "\n",
        "print(\"Inorder Traversal: \")\n",
        "inorder(root)\n",
        "print(\"\\nPreorder Traversal: \")\n",
        "preorder(root)\n",
        "print(\"\\nPostorder Traversal: \")\n",
        "postorder(root)"
      ],
      "metadata": {
        "colab": {
          "base_uri": "https://localhost:8080/"
        },
        "id": "jxl7CDmyVDzn",
        "outputId": "3b85f5c3-4aca-4b6e-aeba-3eb8da08b5e8"
      },
      "execution_count": null,
      "outputs": [
        {
          "output_type": "stream",
          "name": "stdout",
          "text": [
            "Inorder Traversal: \n",
            "20 30 40 50 60 70 80 \n",
            "Preorder Traversal: \n",
            "50 30 20 40 70 60 80 \n",
            "Postorder Traversal: \n",
            "20 40 30 60 80 70 50 "
          ]
        }
      ]
    },
    {
      "cell_type": "markdown",
      "source": [
        "PENCARIAN NILAI DALAM BST"
      ],
      "metadata": {
        "id": "KlF7W0_-VP6v"
      }
    },
    {
      "cell_type": "code",
      "source": [
        "def search(node, key):\n",
        "  if node is None or node.data == key:\n",
        "    return node\n",
        "  if key < node.data:\n",
        "    return search(node.left, key)\n",
        "  return search(node.right, key)\n",
        "\n",
        "# Uji pencarian\n",
        "key = 60\n",
        "result = search(root, key)\n",
        "if result:\n",
        "  print(f\"{key} ditemukan dalam tree.\")\n",
        "else:\n",
        "  print(f\"{key} tidak ditemukan.\")\n",
        "\n",
        "key = 25\n",
        "result = search(root, key)\n",
        "if result:\n",
        "  print(f\"{key} ditemukan dalam tree.\")\n",
        "else:\n",
        "  print(f\"{key} tidak ditemukan.\")\n"
      ],
      "metadata": {
        "colab": {
          "base_uri": "https://localhost:8080/"
        },
        "id": "AON7rsX2VDaJ",
        "outputId": "3f998e09-e47e-44c7-db9d-162381f9ef14"
      },
      "execution_count": null,
      "outputs": [
        {
          "output_type": "stream",
          "name": "stdout",
          "text": [
            "60 ditemukan dalam tree.\n",
            "25 tidak ditemukan.\n"
          ]
        }
      ]
    },
    {
      "cell_type": "markdown",
      "source": [
        "TUGAS\n",
        "\n",
        "Tugas 1 : Program Struktur Binary Tree Manual"
      ],
      "metadata": {
        "id": "EeHw0-gfabs3"
      }
    },
    {
      "cell_type": "code",
      "source": [
        "# Membuat kelas\n",
        "class Node:\n",
        "  def __init__(self, data):\n",
        "    self.data = data\n",
        "    self.left = None\n",
        "    self.right = None\n",
        "\n",
        "# Membuat root secara manual\n",
        "root = Node(18)\n",
        "root.left = Node(9)\n",
        "root.right = Node(23)\n",
        "root.left.left = Node(7)\n",
        "root.right.right = Node(2)\n",
        "\n",
        "# Menampilkan dengan inorder traversal\n",
        "def inorder(node):\n",
        "  if node:\n",
        "    inorder(node.left)\n",
        "    print(node.data, end= ' ')\n",
        "    inorder(node.right)\n",
        "\n",
        "print(\"Hasil Inorder Traversal : \")\n",
        "inorder(root)\n"
      ],
      "metadata": {
        "colab": {
          "base_uri": "https://localhost:8080/"
        },
        "id": "X0ucLtvmIfEy",
        "outputId": "7c7ac17c-15f3-46bf-8f39-cb6f8c7b41dc"
      },
      "execution_count": 2,
      "outputs": [
        {
          "output_type": "stream",
          "name": "stdout",
          "text": [
            "Hasil Inorder Traversal : \n",
            "7 9 18 23 2 "
          ]
        }
      ]
    },
    {
      "cell_type": "markdown",
      "source": [
        "Tugas 2 : Program Binary Search Tree (BST)"
      ],
      "metadata": {
        "id": "E8EmKvC1K9LA"
      }
    },
    {
      "cell_type": "code",
      "source": [
        "# Membuat kelas\n",
        "class Node:\n",
        "  def __init__(self, data):\n",
        "    self.data = data\n",
        "    self.left = None\n",
        "    self.right = None\n",
        "\n",
        "class BinarySearchTree:\n",
        "  def __init__(self):\n",
        "    self.root = None\n",
        "  def insert(self, root, data):\n",
        "    if root is None:\n",
        "      return Node(data)\n",
        "    if data < root.data:\n",
        "      root.left = self.insert(root.left, data)\n",
        "    else:\n",
        "      root.right = self.insert(root.right, data)\n",
        "    return root\n",
        "\n",
        "# Menentukan data yang akan dimasukkan dalam tree\n",
        "BST = BinarySearchTree()\n",
        "root = None\n",
        "Data_list = [23,7,2,65,122,26,10]\n",
        "for value in Data_list:\n",
        "  root = BST.insert(root, value)\n",
        "\n",
        "# Traversal\n",
        "# Metode Inorder\n",
        "def inorder(node):\n",
        "  if node:\n",
        "    inorder(node.left)\n",
        "    print(node.data, end=' ')\n",
        "    inorder(node.right)\n",
        "\n",
        "# Metode Preorder\n",
        "def preorder(node):\n",
        "  if node:\n",
        "    print(node.data, end=' ')\n",
        "    preorder(node.left)\n",
        "    preorder(node.right)\n",
        "\n",
        "# Metode Postorder\n",
        "def postorder(node):\n",
        "  if node:\n",
        "    postorder(node.left)\n",
        "    postorder(node.right)\n",
        "    print(node.data, end=' ')\n",
        "\n",
        "print(\"--HASIL TRAVERSAL--\")\n",
        "print(\"Inorder Traversal: \")\n",
        "inorder(root)\n",
        "print(\"\\nPreorder Traversal: \")\n",
        "preorder(root)\n",
        "print(\"\\nPostorder Traversal: \")\n",
        "postorder(root)\n",
        "\n",
        "# Pencarian nilai\n",
        "def search(node, key):\n",
        "  if node is None or node.data == key:\n",
        "    return node\n",
        "  if key < node.data:\n",
        "    return search(node.left, key)\n",
        "  return search(node.right, key)\n",
        "\n",
        "# Menentukan key\n",
        "print()\n",
        "print(\"\\n--HASIL PENCARIAN--\")\n",
        "\n",
        "key = 23\n",
        "result = search(root, key)\n",
        "if result:\n",
        "  print(f\"{key} ditemukan dalam tree.\")\n",
        "else:\n",
        "  print(f\"{key} tidak ditemukan.\")\n",
        "\n",
        "key = 18\n",
        "result = search(root, key)\n",
        "if result:\n",
        "  print(f\"{key} ditemukan dalam tree.\")\n",
        "else:\n",
        "  print(f\"{key} tidak ditemukan.\")"
      ],
      "metadata": {
        "colab": {
          "base_uri": "https://localhost:8080/"
        },
        "id": "EgnB8xLWJ3ij",
        "outputId": "b21b791a-c20c-4ac7-c47f-cf4b63f843b2"
      },
      "execution_count": 14,
      "outputs": [
        {
          "output_type": "stream",
          "name": "stdout",
          "text": [
            "--HASIL TRAVERSAL--\n",
            "Inorder Traversal: \n",
            "2 7 10 23 26 65 122 \n",
            "Preorder Traversal: \n",
            "23 7 2 10 65 26 122 \n",
            "Postorder Traversal: \n",
            "2 10 7 26 122 65 23 \n",
            "\n",
            "--HASIL PENCARIAN--\n",
            "23 ditemukan dalam tree.\n",
            "18 tidak ditemukan.\n"
          ]
        }
      ]
    }
  ]
}