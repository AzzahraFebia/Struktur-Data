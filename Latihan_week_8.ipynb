{
  "nbformat": 4,
  "nbformat_minor": 0,
  "metadata": {
    "colab": {
      "provenance": [],
      "authorship_tag": "ABX9TyPIvvq/s1sqRPOUQ3IhKNNs",
      "include_colab_link": true
    },
    "kernelspec": {
      "name": "python3",
      "display_name": "Python 3"
    },
    "language_info": {
      "name": "python"
    }
  },
  "cells": [
    {
      "cell_type": "markdown",
      "metadata": {
        "id": "view-in-github",
        "colab_type": "text"
      },
      "source": [
        "<a href=\"https://colab.research.google.com/github/AzzahraFebia/Struktur-Data/blob/main/Latihan_week_8.ipynb\" target=\"_parent\"><img src=\"https://colab.research.google.com/assets/colab-badge.svg\" alt=\"Open In Colab\"/></a>"
      ]
    },
    {
      "cell_type": "markdown",
      "source": [
        "ADJACENCY LIST"
      ],
      "metadata": {
        "id": "cfrK5QfJXqYs"
      }
    },
    {
      "cell_type": "code",
      "execution_count": 2,
      "metadata": {
        "colab": {
          "base_uri": "https://localhost:8080/"
        },
        "id": "o_UAVQFqXl6e",
        "outputId": "942fbdd7-a04b-4d2e-ef1c-1e92b9f5171d"
      },
      "outputs": [
        {
          "output_type": "stream",
          "name": "stdout",
          "text": [
            "A -> ['B', 'C']\n",
            "B -> ['A', 'D', 'E']\n",
            "C -> ['A', 'F']\n",
            "D -> ['B']\n",
            "E -> ['B', 'F']\n",
            "F -> ['C', 'E']\n"
          ]
        }
      ],
      "source": [
        "# Membuat graf tak berarah menggunakan adjacency list\n",
        "graph = {\n",
        "    'A': ['B', 'C'],\n",
        "    'B': ['A', 'D', 'E'],\n",
        "    'C': ['A', 'F'],\n",
        "    'D': ['B'],\n",
        "    'E': ['B', 'F'],\n",
        "    'F': ['C', 'E']\n",
        "}\n",
        "\n",
        "# Menampilkan graf\n",
        "def print_graph(graf):\n",
        "  for node in graf:\n",
        "    print(f\"{node} -> {graf[node]}\")\n",
        "\n",
        "print_graph(graph)"
      ]
    },
    {
      "cell_type": "markdown",
      "source": [
        "TRAVERSAL GRAF MENGGUNAKAN BFS"
      ],
      "metadata": {
        "id": "nhUVmTmRiaar"
      }
    },
    {
      "cell_type": "code",
      "source": [
        "from collections import deque\n",
        "\n",
        "def bfs(graph, start):\n",
        "  visited = set()\n",
        "  queue = deque([start])\n",
        "\n",
        "  while queue:\n",
        "    vertex = queue.popleft()\n",
        "    if vertex not in visited:\n",
        "      print(vertex, end=\" \")\n",
        "      visited.add(vertex)\n",
        "      queue.extend([neighbour for neighbour in graph[vertex] if neighbour not in visited])\n",
        "\n",
        "# Contoh pemanggilan\n",
        "bfs(graph, 'A')"
      ],
      "metadata": {
        "id": "cNG0sHyMZ_-U",
        "colab": {
          "base_uri": "https://localhost:8080/"
        },
        "outputId": "613e85b4-0df1-4b5c-bf53-267ee7ef1eeb"
      },
      "execution_count": 3,
      "outputs": [
        {
          "output_type": "stream",
          "name": "stdout",
          "text": [
            "A B C D E F "
          ]
        }
      ]
    },
    {
      "cell_type": "markdown",
      "source": [
        "TRAVERSAL GRAF MENGGUNAKAN DFS"
      ],
      "metadata": {
        "id": "EEJR3dDgblMH"
      }
    },
    {
      "cell_type": "code",
      "source": [
        "def dfs(graph, start, visited=None):\n",
        "  if visited is None:\n",
        "    visited = set()\n",
        "\n",
        "  if start not in visited:\n",
        "    print(start, end=\" \")\n",
        "    visited.add(start)\n",
        "    for neighbor in graph[start]:\n",
        "      dfs(graph,neighbor,visited)\n",
        "\n",
        "# Contoh pemanggilan\n",
        "dfs(graph, 'A')"
      ],
      "metadata": {
        "colab": {
          "base_uri": "https://localhost:8080/"
        },
        "id": "_Ncogt6bXZO5",
        "outputId": "f62bef0a-397c-400c-9373-b3ce2e49178c"
      },
      "execution_count": 4,
      "outputs": [
        {
          "output_type": "stream",
          "name": "stdout",
          "text": [
            "A B D E F C "
          ]
        }
      ]
    },
    {
      "cell_type": "markdown",
      "source": [
        "LATIHAN PERSONAL"
      ],
      "metadata": {
        "id": "mSqD1zApbpcO"
      }
    },
    {
      "cell_type": "code",
      "source": [
        "def count_neighbors(graph):\n",
        "  result = {}\n",
        "  for node in graph:\n",
        "    #TODO: Hitung jumlah tetangga\n",
        "    neighbors = graph.get(node,[])\n",
        "    result[node] = len(neighbors)\n",
        "  return result\n",
        "\n",
        "# Contoh pemanggilan\n",
        "neighbors_count = count_neighbors(graph)\n",
        "print(neighbors_count)"
      ],
      "metadata": {
        "id": "AbOimMhCarAq",
        "colab": {
          "base_uri": "https://localhost:8080/"
        },
        "outputId": "bc95ef53-47ae-4224-cda7-51f97aaafbce"
      },
      "execution_count": 6,
      "outputs": [
        {
          "output_type": "stream",
          "name": "stdout",
          "text": [
            "{'A': 2, 'B': 3, 'C': 2, 'D': 1, 'E': 2, 'F': 2}\n"
          ]
        }
      ]
    }
  ]
}