{
  "nbformat": 4,
  "nbformat_minor": 0,
  "metadata": {
    "colab": {
      "provenance": [],
      "authorship_tag": "ABX9TyNufrEbmBXtaJ2pp23EIErO",
      "include_colab_link": true
    },
    "kernelspec": {
      "name": "python3",
      "display_name": "Python 3"
    },
    "language_info": {
      "name": "python"
    }
  },
  "cells": [
    {
      "cell_type": "markdown",
      "metadata": {
        "id": "view-in-github",
        "colab_type": "text"
      },
      "source": [
        "<a href=\"https://colab.research.google.com/github/AzzahraFebia/Struktur-Data/blob/main/Latihan_week_6.ipynb\" target=\"_parent\"><img src=\"https://colab.research.google.com/assets/colab-badge.svg\" alt=\"Open In Colab\"/></a>"
      ]
    },
    {
      "cell_type": "markdown",
      "source": [
        "IMPLEMENTASI BUBBLE SORT"
      ],
      "metadata": {
        "id": "c4B2uiYEqNV8"
      }
    },
    {
      "cell_type": "code",
      "source": [
        "def bubble_sort(arr):\n",
        "  n = len(arr)\n",
        "  for i in range(n-1):\n",
        "    for j in range(n-i-1):\n",
        "      if arr[j] > arr[j+1]:\n",
        "        arr[j], arr[j+1] = arr[j+1], arr[j]\n",
        "  return arr\n",
        "\n",
        "# Contoh Penggunaan\n",
        "data = [64, 34, 25, 12, 22, 11, 90]\n",
        "sorted_data = bubble_sort(data.copy()) # Menggunakan copy agar data asli tidak berubah\n",
        "print(\"Data sebelum sorting:\", data)\n",
        "print(\"Data setelah sorting:\", sorted_data)"
      ],
      "metadata": {
        "colab": {
          "base_uri": "https://localhost:8080/"
        },
        "id": "jwy_nstLsjvk",
        "outputId": "67a5791a-eb16-4173-c846-435be6788097"
      },
      "execution_count": null,
      "outputs": [
        {
          "output_type": "stream",
          "name": "stdout",
          "text": [
            "Data sebelum sorting: [64, 34, 25, 12, 22, 11, 90]\n",
            "Data setelah sorting: [11, 12, 22, 25, 34, 64, 90]\n"
          ]
        }
      ]
    },
    {
      "cell_type": "markdown",
      "source": [
        "IMPLEMENTASI SELECTION SORT"
      ],
      "metadata": {
        "id": "zo7lMzOWtcYU"
      }
    },
    {
      "cell_type": "code",
      "source": [
        "def selection_sort(arr):\n",
        "  n = len(arr)\n",
        "  for i in range(n-1):\n",
        "    min_index = i\n",
        "    for j in range(i+1, n):\n",
        "      if arr[j] < arr[min_index]:\n",
        "        min_index = j\n",
        "    arr[i], arr[min_index] = arr[min_index], arr[i]\n",
        "  return arr\n",
        "\n",
        "# Contoh Penggunaan\n",
        "data = [65, 25, 12, 22, 11]\n",
        "sorted_data = selection_sort(data.copy()) # Menggunakan copy agar data asli tidak berubah\n",
        "print(\"Data sebelum sorting:\", data)\n",
        "print(\"Data setelah sorting:\", sorted_data)"
      ],
      "metadata": {
        "colab": {
          "base_uri": "https://localhost:8080/"
        },
        "id": "2pOZX7ustY3n",
        "outputId": "28228468-df00-49ab-9c68-8e0ec053456c"
      },
      "execution_count": null,
      "outputs": [
        {
          "output_type": "stream",
          "name": "stdout",
          "text": [
            "Data sebelum sorting: [65, 25, 12, 22, 11]\n",
            "Data setelah sorting: [11, 12, 22, 25, 65]\n"
          ]
        }
      ]
    },
    {
      "cell_type": "markdown",
      "source": [
        "IMPLEMENTASI INSERTION SORT"
      ],
      "metadata": {
        "id": "_VauKRIDt_u0"
      }
    },
    {
      "cell_type": "code",
      "source": [
        "def insertion_sort(arr):\n",
        "  n = len(arr)\n",
        "  for i in range(1, n):\n",
        "    key = arr[i]\n",
        "    j = i-1\n",
        "    while j >= 0 and arr[j] > key:\n",
        "      arr[j+1] = arr[j]\n",
        "      j -= 1\n",
        "    arr[j+1] = key\n",
        "  return arr\n",
        "\n",
        "# Contoh Penggunaan\n",
        "data = [64, 34, 25, 12, 22, 11, 90]\n",
        "sorted_data = insertion_sort(data.copy()) # Menggunakan copy agar data asli tidak berubah\n",
        "print(\"Data sebelum sorting:\", data)\n",
        "print(\"Data setelah sorting:\", sorted_data)\n"
      ],
      "metadata": {
        "colab": {
          "base_uri": "https://localhost:8080/"
        },
        "id": "WirmX8URt-9W",
        "outputId": "74c9ad9a-2f75-4c16-82e2-cad3e4f600e2"
      },
      "execution_count": null,
      "outputs": [
        {
          "output_type": "stream",
          "name": "stdout",
          "text": [
            "Data sebelum sorting: [64, 34, 25, 12, 22, 11, 90]\n",
            "Data setelah sorting: [11, 12, 22, 25, 34, 64, 90]\n"
          ]
        }
      ]
    },
    {
      "cell_type": "markdown",
      "source": [
        "IMPLEMENTASI MERGE SORT"
      ],
      "metadata": {
        "id": "-uezAiAfvH2U"
      }
    },
    {
      "cell_type": "code",
      "source": [
        "def merge_sort(arr):\n",
        "  if len(arr) > 1:\n",
        "    mid = len(arr) // 2\n",
        "    left_half = arr[:mid]\n",
        "    right_half = arr[mid:]\n",
        "\n",
        "    merge_sort(left_half)\n",
        "    merge_sort(right_half)\n",
        "\n",
        "    i = j = k = 0\n",
        "\n",
        "    while i < len(left_half) and j < len(right_half):\n",
        "      if left_half[i] < right_half[j]:\n",
        "        arr[k] = left_half[i]\n",
        "        i += 1\n",
        "      else:\n",
        "        arr[k] = right_half[j]\n",
        "        j += 1\n",
        "        k += 1\n",
        "\n",
        "    while i < len(left_half):\n",
        "      arr[k] = left_half[i]\n",
        "      i += 1\n",
        "      k += 1\n",
        "\n",
        "    while j < len(right_half):\n",
        "      arr[k] = right_half[j]\n",
        "      j += 1\n",
        "      k += 1\n",
        "\n",
        "  return arr\n",
        "\n",
        "# Contoh Penggunaan\n",
        "data = [64, 25, 12, 22, 11]\n",
        "sorted_data = merge_sort(data.copy()) # Menggunakan copy agar data asli tidak berubah\n",
        "print(\"Data sebelum sorting:\", data)\n",
        "print(\"Data setelah sorting:\", sorted_data)\n"
      ],
      "metadata": {
        "colab": {
          "base_uri": "https://localhost:8080/"
        },
        "id": "bWXrdmmmvHN9",
        "outputId": "26c5fc8b-3326-4014-de91-a67b31479ee0"
      },
      "execution_count": null,
      "outputs": [
        {
          "output_type": "stream",
          "name": "stdout",
          "text": [
            "Data sebelum sorting: [64, 25, 12, 22, 11]\n",
            "Data setelah sorting: [11, 22, 11, 25, 64]\n"
          ]
        }
      ]
    },
    {
      "cell_type": "markdown",
      "source": [
        "IMPLEMENTASI QUICK SORT"
      ],
      "metadata": {
        "id": "lrOnwUNqwTys"
      }
    },
    {
      "cell_type": "code",
      "source": [
        "def quick_sort(arr):\n",
        "  if len(arr) <= 1:\n",
        "    return arr\n",
        "\n",
        "  pivot = arr[len(arr) // 2]\n",
        "  left = [x for x in arr if x < pivot]\n",
        "  middle = [x for x in arr if x == pivot]\n",
        "  right = [x for x in arr if x > pivot]\n",
        "\n",
        "  return quick_sort(left) + middle + quick_sort(right)\n",
        "\n",
        "# Contoh Penggunaan\n",
        "data = [64, 25, 12, 22, 11]\n",
        "sorted_data = quick_sort(data.copy()) # Menggunakan copy agar data asli tidak berubah\n",
        "print(\"Data sebelum sorting:\", data)\n",
        "print(\"Data setelah sorting:\", sorted_data)"
      ],
      "metadata": {
        "colab": {
          "base_uri": "https://localhost:8080/"
        },
        "id": "611sZNC7wCvf",
        "outputId": "415ecd9a-36fc-470b-d53c-8c68c31869e5"
      },
      "execution_count": null,
      "outputs": [
        {
          "output_type": "stream",
          "name": "stdout",
          "text": [
            "Data sebelum sorting: [64, 25, 12, 22, 11]\n",
            "Data setelah sorting: [11, 12, 22, 25, 64]\n"
          ]
        }
      ]
    },
    {
      "cell_type": "markdown",
      "source": [
        "LATIHAN/TUGAS\n",
        "\n",
        "Optimasi Pencarian Produk di Marketplace\n",
        "- Marketplace sering menampilkan produk berdasarkan harga terendah hingga tertinggi atau berdasarkan rating pelanggan. Buat program yang mengurutkan daftar produk menggunakan algoritma sorting."
      ],
      "metadata": {
        "id": "CZxwdTw9ynKc"
      }
    },
    {
      "cell_type": "code",
      "source": [
        "def produk(data):\n",
        "    n = len(data)\n",
        "    for i in range(n):\n",
        "        for j in range(0, n - i - 1):\n",
        "            if data[j]['Harga'] > data[j + 1]['Harga']:\n",
        "                data[j], data[j + 1] = data[j + 1], data[j]\n",
        "    return data\n",
        "\n",
        "products = [\n",
        "    {'Nama': 'Baju Anak', 'Harga': 40000, 'Rating': 4.5},\n",
        "    {'Nama': 'Vas Bunga', 'Harga': 35000, 'Rating': 4.8},\n",
        "    {'Nama': 'Meja Lipat', 'Harga': 70000, 'Rating': 4.9},\n",
        "    {'Nama': 'Jam Tangan', 'Harga': 65000, 'Rating': 4.7},\n",
        "]\n",
        "\n",
        "urutan = produk(products)\n",
        "\n",
        "print(\" --- Daftar Produk ---\")\n",
        "print(\"urutan berdasarkan harga\\n\")\n",
        "for products in urutan:\n",
        "    print(f\"- {products['Nama']}\")\n",
        "    print(f\"  Harga: {products['Harga']}\")\n",
        "    print(f\"  Rating: {products['Rating']}\\n\")"
      ],
      "metadata": {
        "colab": {
          "base_uri": "https://localhost:8080/"
        },
        "id": "eAV4bChsz9en",
        "outputId": "d76f62e1-e7a6-4450-86a2-54c4ba495002"
      },
      "execution_count": 16,
      "outputs": [
        {
          "output_type": "stream",
          "name": "stdout",
          "text": [
            " --- Daftar Produk ---\n",
            "urutan berdasarkan harga\n",
            "\n",
            "- Vas Bunga\n",
            "  Harga: 35000\n",
            "  Rating: 4.8\n",
            "\n",
            "- Baju Anak\n",
            "  Harga: 40000\n",
            "  Rating: 4.5\n",
            "\n",
            "- Jam Tangan\n",
            "  Harga: 65000\n",
            "  Rating: 4.7\n",
            "\n",
            "- Meja Lipat\n",
            "  Harga: 70000\n",
            "  Rating: 4.9\n",
            "\n"
          ]
        }
      ]
    },
    {
      "cell_type": "code",
      "source": [],
      "metadata": {
        "id": "D7LNU5Ra1710"
      },
      "execution_count": null,
      "outputs": []
    }
  ]
}