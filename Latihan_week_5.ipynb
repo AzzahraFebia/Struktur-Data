{
  "nbformat": 4,
  "nbformat_minor": 0,
  "metadata": {
    "colab": {
      "provenance": [],
      "authorship_tag": "ABX9TyO4vZ5F31ch8/morbahZLGe",
      "include_colab_link": true
    },
    "kernelspec": {
      "name": "python3",
      "display_name": "Python 3"
    },
    "language_info": {
      "name": "python"
    }
  },
  "cells": [
    {
      "cell_type": "markdown",
      "metadata": {
        "id": "view-in-github",
        "colab_type": "text"
      },
      "source": [
        "<a href=\"https://colab.research.google.com/github/AzzahraFebia/Struktur-Data/blob/main/Latihan_week_5.ipynb\" target=\"_parent\"><img src=\"https://colab.research.google.com/assets/colab-badge.svg\" alt=\"Open In Colab\"/></a>"
      ]
    },
    {
      "cell_type": "markdown",
      "source": [
        "IMPLEMENTASI LINIEAR SEARCH"
      ],
      "metadata": {
        "id": "pr46-oIio35v"
      }
    },
    {
      "cell_type": "code",
      "execution_count": null,
      "metadata": {
        "colab": {
          "base_uri": "https://localhost:8080/"
        },
        "id": "LKwWVkQiogFz",
        "outputId": "574232ed-e98a-4731-8d3e-eb0eabadc416"
      },
      "outputs": [
        {
          "output_type": "stream",
          "name": "stdout",
          "text": [
            "Masukkan 3 digit terakhir NPM Anda: 023\n",
            "Elemen ditemukan di indeks 3 \n"
          ]
        }
      ],
      "source": [
        "def liniear_search(arr, target):\n",
        "  for i in range(len(arr)):\n",
        "    if arr[i] == target:\n",
        "      return i\n",
        "  return -1\n",
        "\n",
        "# Ganti dengan angka acak dan NPM Anda\n",
        "arr = [12, 45, 78, 23, 56, 89, 34, 67, 90, 11]\n",
        "target = int(input(\"Masukkan 3 digit terakhir NPM Anda: \"))\n",
        "\n",
        "result = liniear_search(arr, target)\n",
        "\n",
        "if result != -1:\n",
        "  print(f\"Elemen ditemukan di indeks {result} \")\n",
        "else:\n",
        "  print(f\"Elemen not found.\")"
      ]
    },
    {
      "cell_type": "markdown",
      "source": [
        "IMPLEMENTASI BINARY SEARCH"
      ],
      "metadata": {
        "id": "I0v2t_lGqgY_"
      }
    },
    {
      "cell_type": "code",
      "source": [
        "def binary_search(arr, target):\n",
        "  low = 0\n",
        "  high = len(arr) - 1\n",
        "\n",
        "  while low <= high:\n",
        "    mid = (low + high) // 2\n",
        "    if arr[mid] == target:\n",
        "        return mid\n",
        "    elif arr[mid] < target:\n",
        "      low = mid + 1\n",
        "    else:\n",
        "      high = mid - 1\n",
        "\n",
        "  return -1\n",
        "\n",
        " # Ganti dengan angka terurut dan tanggal lahir Anda (DDMM)\n",
        "arr = [1104, 1211, 1702, 2012, 2108]\n",
        "target = int(input(\"Masukkan tanggal lahir (DDMM): \"))\n",
        "\n",
        "result = binary_search(arr, target)\n",
        "\n",
        "if result != -1:\n",
        "  print(f\"Ditemukan di indeks {result}\")\n",
        "else:\n",
        "  print(f\"Elemen not found.\")"
      ],
      "metadata": {
        "colab": {
          "base_uri": "https://localhost:8080/"
        },
        "id": "y_lhg6wCpw4g",
        "outputId": "eb0a4b8e-3514-4ba4-8961-6dcf45d93075"
      },
      "execution_count": null,
      "outputs": [
        {
          "output_type": "stream",
          "name": "stdout",
          "text": [
            "Masukkan tanggal lahir (DDMM): 1702\n",
            "Ditemukan di indeks 2\n"
          ]
        }
      ]
    },
    {
      "cell_type": "markdown",
      "source": [
        "IMPLEMENTASI JUMP SEARCH"
      ],
      "metadata": {
        "id": "qbbUsT5yw0TP"
      }
    },
    {
      "cell_type": "code",
      "source": [
        "import math\n",
        "\n",
        "def jump_search(arr, target):\n",
        "  n = len(arr)\n",
        "  step = int(math.sqrt(n))\n",
        "  prev = 0\n",
        "\n",
        "  while arr[min(step, n) - 1] < target:\n",
        "    prev = step\n",
        "    step += int(math.sqrt(n))\n",
        "    if prev >= n:\n",
        "      return -1\n",
        "\n",
        "  for i in range(prev, min(step, n)):\n",
        "    if arr[i] == target:\n",
        "      return i\n",
        "\n",
        "  return -1\n",
        "\n",
        "# Ganti dengan daftar nama teman-teman Anda dalam urutan alfabet\n",
        "arr = [\"Jeana\",\"Nata\",\"Samudera\",\"Wyola\",\"Zara\"]\n",
        "target = input(\"Masukkan nama: \")\n",
        "\n",
        "result = jump_search(arr, target)\n",
        "\n",
        "if result != -1:\n",
        "  print(f\"Elemen ditemukan di indeks {result}\")\n",
        "else:\n",
        "\n",
        "  print(f\"Elemen not found.\")"
      ],
      "metadata": {
        "colab": {
          "base_uri": "https://localhost:8080/"
        },
        "id": "FE-JRcAmtKEx",
        "outputId": "6b841c95-dabb-46b3-80d5-1659370463ca"
      },
      "execution_count": null,
      "outputs": [
        {
          "output_type": "stream",
          "name": "stdout",
          "text": [
            "Masukkan nama: Juna\n",
            "Elemen not found.\n"
          ]
        }
      ]
    },
    {
      "cell_type": "markdown",
      "source": [
        "LATIHAN / TUGAS"
      ],
      "metadata": {
        "id": "XozY1WVLz1CG"
      }
    },
    {
      "cell_type": "code",
      "source": [
        "import random\n",
        "import math\n",
        "from tabulate import tabulate\n",
        "\n",
        "# LINIEAR SEARCH\n",
        "def liniear_search(angka, target):\n",
        "  perbandingan = 0\n",
        "  for i in range(len(angka)):\n",
        "    perbandingan += 1\n",
        "    if angka[i] == target:\n",
        "      return i, perbandingan\n",
        "  return -1, perbandingan\n",
        "\n",
        "# BINARY SEARCH\n",
        "def binary_search(angka, target):\n",
        "  low = 0\n",
        "  high = len(angka) - 1\n",
        "  perbandingan = 0\n",
        "\n",
        "  while low <= high:\n",
        "    mid = (low + high) // 2\n",
        "    perbandingan += 1\n",
        "    if angka[mid] == target:\n",
        "        return mid, perbandingan\n",
        "    elif angka[mid] < target:\n",
        "      low = mid + 1\n",
        "    else:\n",
        "      high = mid - 1\n",
        "  return -1, perbandingan\n",
        "\n",
        "# JUMP SEARCH\n",
        "def jump_search(angka, target):\n",
        "  n = len(angka)\n",
        "  step = int(math.sqrt(n))\n",
        "  prev = 0\n",
        "  perbandingan = 0\n",
        "\n",
        "  while angka[min(step, n) - 1] < target:\n",
        "    perbandingan =+ 1\n",
        "    prev = step\n",
        "    step += int(math.sqrt(n))\n",
        "    if prev >= n:\n",
        "      return -1, perbandingan\n",
        "\n",
        "  for i in range(prev, min(step, n)):\n",
        "    if angka[i] == target:\n",
        "      return i, perbandingan\n",
        "  return -1, perbandingan\n",
        "\n",
        "# Daftar 100 Angka Acak\n",
        "print(\"--- Membandingkan Efisiensi Liniear Search, Binary Search, Jump Search ---\\n\")\n",
        "\n",
        "angka = random.sample(range(1, 1000), 100)\n",
        "angka.sort()\n",
        "print(f\"Daftar Angka: {angka}\")\n",
        "\n",
        "# Menentukan elemen sebagai target\n",
        "Angka_Target = angka[len(angka) // 2]\n",
        "print(f\"Angka yang dicari: {Angka_Target}\\n\")\n",
        "print(f\"                   TABEL    \")\n",
        "\n",
        "# Hasil\n",
        "liniear = liniear_search(angka, Angka_Target)\n",
        "binary = binary_search(angka, Angka_Target)\n",
        "jump = jump_search(angka, Angka_Target)\n",
        "\n",
        "# Tabel\n",
        "data = [\n",
        "    [\"Liniear Search\", liniear[0], liniear[1]],\n",
        "    [\"Binary Search\", binary[0], binary[1]],\n",
        "    [\"Jump Search\", jump[0], jump[1]]\n",
        "]\n",
        "\n",
        "print(tabulate(data, headers=[\"Algoritma\", \"Index\", \"Perbandingan\"], tablefmt=\"heavy_grid\"))\n",
        "\n"
      ],
      "metadata": {
        "colab": {
          "base_uri": "https://localhost:8080/"
        },
        "id": "rOXROSEqKVUL",
        "outputId": "6ef91ae3-b398-40ff-cf02-601faec533ce"
      },
      "execution_count": 3,
      "outputs": [
        {
          "output_type": "stream",
          "name": "stdout",
          "text": [
            "--- Membandingkan Efisiensi Liniear Search, Binary Search, Jump Search ---\n",
            "\n",
            "Daftar Angka: [4, 12, 16, 22, 25, 33, 42, 51, 59, 79, 83, 86, 95, 112, 113, 119, 128, 138, 139, 143, 147, 152, 153, 162, 173, 178, 179, 191, 225, 229, 236, 274, 279, 297, 304, 308, 314, 322, 331, 348, 370, 371, 383, 394, 405, 410, 438, 464, 465, 468, 476, 496, 516, 519, 537, 540, 544, 547, 554, 570, 572, 614, 615, 616, 633, 656, 664, 668, 673, 684, 690, 693, 695, 696, 705, 717, 730, 734, 738, 740, 745, 749, 765, 800, 816, 821, 825, 842, 848, 855, 872, 877, 884, 920, 943, 944, 957, 958, 969, 978]\n",
            "Angka yang dicari: 476\n",
            "\n",
            "                   TABEL    \n",
            "┏━━━━━━━━━━━━━━━━┳━━━━━━━━━┳━━━━━━━━━━━━━━━━┓\n",
            "┃ Algoritma      ┃   Index ┃   Perbandingan ┃\n",
            "┣━━━━━━━━━━━━━━━━╋━━━━━━━━━╋━━━━━━━━━━━━━━━━┫\n",
            "┃ Liniear Search ┃      50 ┃             51 ┃\n",
            "┣━━━━━━━━━━━━━━━━╋━━━━━━━━━╋━━━━━━━━━━━━━━━━┫\n",
            "┃ Binary Search  ┃      50 ┃              6 ┃\n",
            "┣━━━━━━━━━━━━━━━━╋━━━━━━━━━╋━━━━━━━━━━━━━━━━┫\n",
            "┃ Jump Search    ┃      50 ┃              1 ┃\n",
            "┗━━━━━━━━━━━━━━━━┻━━━━━━━━━┻━━━━━━━━━━━━━━━━┛\n"
          ]
        }
      ]
    },
    {
      "cell_type": "code",
      "source": [],
      "metadata": {
        "id": "gZe5AWn0_Llm"
      },
      "execution_count": null,
      "outputs": []
    }
  ]
}